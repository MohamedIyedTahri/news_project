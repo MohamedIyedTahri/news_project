{
 "cells": [
  {
   "cell_type": "markdown",
   "id": "24e36b3f-0cf5-46c4-a144-20526a625599",
   "metadata": {},
   "source": [
    "# News Embeddings Lab — Word2Vec vs BERT (CC-News, Mini Demo)\n",
    "\n",
    "**Goal.** Build and compare *distributional* (Word2Vec: CBOW & Skip-gram) and *contextual* (BERT base) document embeddings on a small news sample.  \n",
    "**What we do.** Load a dataset → clean → tokenize/lemmatize → train Word2Vec → compute BERT embeddings → compare neighbors → visualize (PCA, t-SNE) → benchmark runtime/memory.  \n",
    "**Scope.** Illustrative, not production—small corpus, CPU, unsupervised evaluation.\n"
   ]
  },
  {
   "cell_type": "markdown",
   "id": "5b2e6900",
   "metadata": {},
   "source": [
    "## 0. Install Minimal Requirements"
   ]
  },
  {
   "cell_type": "markdown",
   "id": "4bc4225c-5ac2-4976-8c54-f017e655b731",
   "metadata": {},
   "source": [
    "## Environment & Dependencies\n",
    "\n",
    "To avoid platform/version issues:\n",
    "- `scipy < 1.13` with `gensim 4.3.2` (fixes SciPy–gensim import).\n",
    "- `spacy 3.8.0` with `en_core_web_sm` 3.8.x.\n",
    "- `torch 2.2.2`, `transformers 4.40.2`.\n",
    "\n",
    "> After running the install cell, **Restart Kernel** and run the rest.\n"
   ]
  },
  {
   "cell_type": "code",
   "execution_count": 14,
   "id": "24e898d4",
   "metadata": {},
   "outputs": [
    {
     "name": "stdout",
     "output_type": "stream",
     "text": [
      ">>> C:\\Users\\ASUS\\AppData\\Local\\Programs\\Python\\Python312\\python.exe -m pip install --upgrade pip setuptools wheel\n"
     ]
    },
    {
     "name": "stderr",
     "output_type": "stream",
     "text": [
      "C:\\Users\\ASUS\\AppData\\Local\\Temp\\ipykernel_15312\\1015471599.py:14: DeprecationWarning: 'pkgutil.find_loader' is deprecated and slated for removal in Python 3.14; use importlib.util.find_spec() instead\n",
      "  if pkgutil.find_loader(extra):\n"
     ]
    },
    {
     "name": "stdout",
     "output_type": "stream",
     "text": [
      ">>> C:\\Users\\ASUS\\AppData\\Local\\Programs\\Python\\Python312\\python.exe -m pip uninstall -y torchaudio\n",
      ">>> C:\\Users\\ASUS\\AppData\\Local\\Programs\\Python\\Python312\\python.exe -m pip uninstall -y torchvision\n",
      ">>> C:\\Users\\ASUS\\AppData\\Local\\Programs\\Python\\Python312\\python.exe -m pip install --upgrade datasets==2.20.0 spacy==3.8.0 gensim==4.3.2 scipy<1.13 torch==2.2.2 transformers==4.40.2 sentencepiece==0.2.0 tqdm==4.66.5 scikit-learn==1.4.2 pandas==2.2.2 numpy==1.26.4 matplotlib==3.8.4\n",
      ">>> C:\\Users\\ASUS\\AppData\\Local\\Programs\\Python\\Python312\\python.exe -m spacy download en_core_web_sm\n",
      "\n",
      "✅ Installs done. Now do: Kernel > Restart Kernel, then Run All.\n"
     ]
    }
   ],
   "source": [
    "import sys, subprocess, pkgutil\n",
    "\n",
    "py = sys.executable\n",
    "def run(cmd): \n",
    "    print(\">>>\", \" \".join(cmd)); \n",
    "    subprocess.run(cmd, check=True)\n",
    "\n",
    "run([py, \"-m\", \"pip\", \"install\", \"--upgrade\", \"pip\", \"setuptools\", \"wheel\"])\n",
    "\n",
    "for extra in (\"torchaudio\", \"torchvision\"):\n",
    "    if pkgutil.find_loader(extra):\n",
    "        run([py, \"-m\", \"pip\", \"uninstall\", \"-y\", extra])\n",
    "        \n",
    "run([py, \"-m\", \"pip\", \"install\", \"--upgrade\",\n",
    "     \"datasets==2.20.0\",\n",
    "     \"spacy==3.8.0\",\n",
    "     \"gensim==4.3.2\",\n",
    "     \"scipy<1.13\",\n",
    "     \"torch==2.2.2\",\n",
    "     \"transformers==4.40.2\",\n",
    "     \"sentencepiece==0.2.0\",\n",
    "     \"tqdm==4.66.5\",\n",
    "     \"scikit-learn==1.4.2\",\n",
    "     \"pandas==2.2.2\",\n",
    "     \"numpy==1.26.4\",\n",
    "     \"matplotlib==3.8.4\"])\n",
    "\n",
    "run([py, \"-m\", \"spacy\", \"download\", \"en_core_web_sm\"])\n",
    "\n",
    "print(\"\\n Installs done.\")\n",
    "\n"
   ]
  },
  {
   "cell_type": "markdown",
   "id": "78781267-ffcf-4b86-890b-ec54383a91b2",
   "metadata": {},
   "source": [
    "## Configuration\n",
    "\n",
    "Project paths and slice sizes.  \n",
    "We use **CC-News `train[:1%]`** for quick iteration. For doc-level comparisons we take **N=20** cleaned articles; for Word2Vec training we build ~**3,000** lemmatized sentences.\n"
   ]
  },
  {
   "cell_type": "markdown",
   "id": "70588021",
   "metadata": {},
   "source": [
    "## 1. Configuration Variables"
   ]
  },
  {
   "cell_type": "code",
   "execution_count": 1,
   "id": "c818681d",
   "metadata": {},
   "outputs": [
    {
     "name": "stdout",
     "output_type": "stream",
     "text": [
      "ROOT: C:\\Users\\ASUS\\Desktop\\ADSP\n",
      "DATA_RAW: C:\\Users\\ASUS\\Desktop\\ADSP\\data\\raw\n",
      "DATA_PROCESSED: C:\\Users\\ASUS\\Desktop\\ADSP\\data\\processed\n",
      "INDEX_DIR: C:\\Users\\ASUS\\Desktop\\ADSP\\index\n"
     ]
    }
   ],
   "source": [
    "\n",
    "from pathlib import Path\n",
    "\n",
    "ROOT = Path(\".\").resolve()\n",
    "DATA_RAW = ROOT / \"data\" / \"raw\"\n",
    "DATA_PROCESSED = ROOT / \"data\" / \"processed\"\n",
    "INDEX_DIR = ROOT / \"index\"\n",
    "\n",
    "for p in [DATA_RAW, DATA_PROCESSED, INDEX_DIR]:\n",
    "    p.mkdir(parents=True, exist_ok=True)\n",
    "\n",
    "CC_NEWS_SPLIT = \"train[:1%]\"\n",
    "MIN_CHARS = 200\n",
    "MAX_CHARS_PER_CHUNK = 1200\n",
    "\n",
    "print(\"ROOT:\", ROOT)\n",
    "print(\"DATA_RAW:\", DATA_RAW)\n",
    "print(\"DATA_PROCESSED:\", DATA_PROCESSED)\n",
    "print(\"INDEX_DIR:\", INDEX_DIR)\n"
   ]
  },
  {
   "cell_type": "markdown",
   "id": "6a87adbf-75da-4a3e-9853-73afb2a18c42",
   "metadata": {},
   "source": [
    "## Dataset\n",
    "\n",
    "- Source: `vblagoje/cc_news` (Hugging Face).  \n",
    "- Features: `title`, `text`, `domain`, `date`, `description`, `url`, `image_url`.  \n",
    "- We print one example for a sanity check.\n"
   ]
  },
  {
   "cell_type": "markdown",
   "id": "24cb2b51",
   "metadata": {},
   "source": [
    "## 2. Load a Small News Dataset (CC-News sample)"
   ]
  },
  {
   "cell_type": "code",
   "execution_count": 2,
   "id": "f4b6b88e",
   "metadata": {},
   "outputs": [
    {
     "name": "stdout",
     "output_type": "stream",
     "text": [
      "Dataset({\n",
      "    features: ['title', 'text', 'domain', 'date', 'description', 'url', 'image_url'],\n",
      "    num_rows: 7082\n",
      "})\n",
      "Example article title: Daughter Duo is Dancing in The Same Company\n",
      "Snippet: There's a surprising twist to Regina Willoughby's last season with Columbia City Ballet: It's also her 18-year-old daughter Melina's first season with the company. Regina, 40, will retire from the stage in March, just as her daughter starts her own career as a trainee. But for this one season, they'\n"
     ]
    }
   ],
   "source": [
    "\n",
    "from datasets import load_dataset\n",
    "\n",
    "ds = load_dataset(\"vblagoje/cc_news\", split=CC_NEWS_SPLIT)\n",
    "print(ds)\n",
    "print(\"Example article title:\", ds[0][\"title\"])\n",
    "print(\"Snippet:\", ds[0][\"text\"][:300])\n"
   ]
  },
  {
   "cell_type": "markdown",
   "id": "ad87046b-4c20-4b5e-a59c-5efa23655cff",
   "metadata": {},
   "source": [
    "## Text Cleaning\n",
    "\n",
    "Light normalization only:\n",
    "- remove URLs/handles\n",
    "- collapse whitespace\n",
    "- keep original casing/punctuation otherwise\n",
    "\n",
    "Purpose: keep the text natural while removing obvious noise.\n"
   ]
  },
  {
   "cell_type": "markdown",
   "id": "8dc1e7a9",
   "metadata": {},
   "source": [
    "## 3. Data Cleaning Helpers"
   ]
  },
  {
   "cell_type": "markdown",
   "id": "a5b45487-f325-4a75-9c31-ca18f4db34ce",
   "metadata": {},
   "source": [
    "## Build a Mini Doc Set\n",
    "\n",
    "Create a small list of **20** cleaned documents (`docs`) used for:\n",
    "- spaCy demos (tokens/lemmas/NER)\n",
    "- document-level embeddings and comparisons\n"
   ]
  },
  {
   "cell_type": "code",
   "execution_count": 6,
   "id": "cb4cdf26-9bee-460c-bb48-046e8b850850",
   "metadata": {},
   "outputs": [
    {
     "name": "stdout",
     "output_type": "stream",
     "text": [
      "✅ Built docs: 20 items\n",
      "Sample: There's a surprising twist to Regina Willoughby's last season with Columbia City Ballet: It's also her 18-year-old daugh …\n"
     ]
    }
   ],
   "source": [
    "N_DOCS = 20  \n",
    "\n",
    "def _safe_clean(x):\n",
    "    try:\n",
    "        return basic_clean(x)\n",
    "    except NameError:\n",
    "        import re\n",
    "        x = re.sub(r\"http\\S+|www\\.\\S+\", \"\", x)\n",
    "        x = re.sub(r\"\\s+\", \" \", x).strip()\n",
    "        return x\n",
    "\n",
    "docs = [_safe_clean(t) for t in ds[\"text\"][:N_DOCS]]\n",
    "print(f\" Built docs: {len(docs)} items\")\n",
    "print(\"Sample:\", docs[0][:120], \"…\")\n"
   ]
  },
  {
   "cell_type": "code",
   "execution_count": 3,
   "id": "0c931b2d",
   "metadata": {},
   "outputs": [
    {
     "name": "stdout",
     "output_type": "stream",
     "text": [
      "Before: There's a surprising twist to Regina Willoughby's last season with Columbia City Ballet: It's also her 18-year-old daughter Melina's first season with the company. Regina, 40, will retire from the sta\n",
      "After: There's a surprising twist to Regina Willoughby's last season with Columbia City Ballet: It's also her 18-year-old daughter Melina's first season with the company. Regina, 40, will retire from the sta\n"
     ]
    }
   ],
   "source": [
    "\n",
    "import re\n",
    "\n",
    "URL_RE = re.compile(r'https?://\\S+')\n",
    "HANDLE_RE = re.compile(r'@\\w+')\n",
    "\n",
    "def strip_urls_handles(text: str) -> str:\n",
    "    text = URL_RE.sub(' ', text)\n",
    "    text = HANDLE_RE.sub(' ', text)\n",
    "    return text\n",
    "\n",
    "def normalize_ws(text: str) -> str:\n",
    "    return ' '.join(text.split())\n",
    "\n",
    "def basic_clean(text: str) -> str:\n",
    "    return normalize_ws(strip_urls_handles(text))\n",
    "\n",
    "sample = ds[0][\"text\"][:400]\n",
    "print(\"Before:\", sample[:200])\n",
    "print(\"After:\", basic_clean(sample)[:200])\n"
   ]
  },
  {
   "cell_type": "markdown",
   "id": "ddd51735-e507-455a-a701-46e11e74d79e",
   "metadata": {},
   "source": [
    "## spaCy Annotation (demo)\n",
    "\n",
    "We load `en_core_web_sm` to demonstrate:\n",
    "- tokens, lemmas, POS tags\n",
    "- named entities (expect some noise; small model)\n"
   ]
  },
  {
   "cell_type": "markdown",
   "id": "7231c0d1",
   "metadata": {},
   "source": [
    "## 4. Tokenization, Lemmatization, POS & NER (spaCy)"
   ]
  },
  {
   "cell_type": "code",
   "execution_count": 7,
   "id": "b92fdea1",
   "metadata": {},
   "outputs": [
    {
     "name": "stdout",
     "output_type": "stream",
     "text": [
      "Tokens: ['There', \"'s\", 'a', 'surprising', 'twist', 'to', 'Regina', 'Willoughby', \"'s\", 'last', 'season', 'with', 'Columbia', 'City', 'Ballet']\n",
      "Lemmas: ['there', 'be', 'a', 'surprising', 'twist', 'to', 'regina', 'willoughby', \"'s\", 'last', 'season', 'with', 'columbia', 'city', 'ballet']\n",
      "POS: [('There', 'PRON'), (\"'s\", 'VERB'), ('a', 'DET'), ('surprising', 'ADJ'), ('twist', 'NOUN'), ('to', 'ADP'), ('Regina', 'PROPN'), ('Willoughby', 'PROPN'), (\"'s\", 'PART'), ('last', 'ADJ')]\n",
      "Entities: [(\"Regina Willoughby's\", 'ORG'), ('last season', 'DATE'), ('Columbia City Ballet', 'ORG'), ('18-year-old', 'DATE'), ('Melina', 'GPE'), ('first', 'ORDINAL'), ('Regina', 'LOC'), ('40', 'DATE'), ('March', 'DATE'), ('this one season', 'DATE'), ('The Nutcracker Regina', 'LOC'), ('Melina', 'GPE'), ('Nutcracker', 'ORG'), ('this month', 'DATE'), ('Regina', 'LOC'), ('Snow Queen', 'WORK_OF_ART'), ('Melina', 'GPE'), ('Arabian', 'NORP')]\n"
     ]
    }
   ],
   "source": [
    "import spacy\n",
    "\n",
    "try:\n",
    "    nlp = spacy.load(\"en_core_web_sm\")\n",
    "except OSError:\n",
    "    import sys, subprocess\n",
    "    subprocess.run([sys.executable, \"-m\", \"spacy\", \"download\", \"en_core_web_sm\"], check=True)\n",
    "    nlp = spacy.load(\"en_core_web_sm\")\n",
    "\n",
    "doc = nlp(docs[0][:600])  \n",
    "print(\"Tokens:\", [t.text for t in doc[:15]])\n",
    "print(\"Lemmas:\", [t.lemma_.lower() for t in doc[:15]])\n",
    "print(\"POS:\", [(t.text, t.pos_) for t in doc[:10]])\n",
    "print(\"Entities:\", [(ent.text, ent.label_) for ent in doc.ents])\n",
    "\n"
   ]
  },
  {
   "cell_type": "markdown",
   "id": "07d13bbc-c14d-4021-af50-2cb08c3a0114",
   "metadata": {},
   "source": [
    "## Sentence Corpus for Word2Vec\n",
    "\n",
    "We lemmatize and filter tokens (`is_alpha` and not stopword) to produce ~**3,000** sentence-like token lists for Word2Vec training. Very lightweight preprocessing by design.\n"
   ]
  },
  {
   "cell_type": "markdown",
   "id": "0eb53718",
   "metadata": {},
   "source": [
    "## 5. Build a Corpus of Sentences for Word2Vec"
   ]
  },
  {
   "cell_type": "code",
   "execution_count": 5,
   "id": "50635a3f",
   "metadata": {},
   "outputs": [
    {
     "data": {
      "text/plain": [
       "(3000,\n",
       " ['surprising',\n",
       "  'twist',\n",
       "  'regina',\n",
       "  'willoughby',\n",
       "  'season',\n",
       "  'columbia',\n",
       "  'city',\n",
       "  'ballet',\n",
       "  'year',\n",
       "  'old',\n",
       "  'daughter',\n",
       "  'melina',\n",
       "  'season',\n",
       "  'company',\n",
       "  'regina',\n",
       "  'retire',\n",
       "  'stage',\n",
       "  'march',\n",
       "  'daughter',\n",
       "  'start'])"
      ]
     },
     "execution_count": 5,
     "metadata": {},
     "output_type": "execute_result"
    }
   ],
   "source": [
    "\n",
    "def to_sentences(dataset, max_docs=2000, max_len=600):\n",
    "    sents = []\n",
    "    for i in range(min(len(dataset), max_docs)):\n",
    "        text = dataset[i].get(\"text\") or \"\"\n",
    "        if not text: continue\n",
    "        text = basic_clean(text[:max_len])\n",
    "        doc = nlp(text)\n",
    "        lem = [t.lemma_.lower() for t in doc if t.is_alpha and not t.is_stop]\n",
    "        if len(lem) >= 5:\n",
    "            sents.append(lem)\n",
    "    return sents\n",
    "\n",
    "sentences = to_sentences(ds, max_docs=3000)\n",
    "len(sentences), sentences[0][:20]\n"
   ]
  },
  {
   "cell_type": "markdown",
   "id": "aa656767-7081-4ff3-b0f5-7a3dca84544a",
   "metadata": {},
   "source": [
    "### Key settings and counts for this run."
   ]
  },
  {
   "cell_type": "code",
   "execution_count": 19,
   "id": "314cd871-d03f-4c4c-b20b-22c500357dff",
   "metadata": {},
   "outputs": [
    {
     "data": {
      "text/html": [
       "<div>\n",
       "<style scoped>\n",
       "    .dataframe tbody tr th:only-of-type {\n",
       "        vertical-align: middle;\n",
       "    }\n",
       "\n",
       "    .dataframe tbody tr th {\n",
       "        vertical-align: top;\n",
       "    }\n",
       "\n",
       "    .dataframe thead th {\n",
       "        text-align: right;\n",
       "    }\n",
       "</style>\n",
       "<table border=\"1\" class=\"dataframe\">\n",
       "  <thead>\n",
       "    <tr style=\"text-align: right;\">\n",
       "      <th></th>\n",
       "      <th>Item</th>\n",
       "      <th>Value</th>\n",
       "    </tr>\n",
       "  </thead>\n",
       "  <tbody>\n",
       "    <tr>\n",
       "      <th>0</th>\n",
       "      <td>Dataset rows</td>\n",
       "      <td>7082</td>\n",
       "    </tr>\n",
       "    <tr>\n",
       "      <th>1</th>\n",
       "      <td>Docs selected (for comparisons)</td>\n",
       "      <td>20</td>\n",
       "    </tr>\n",
       "    <tr>\n",
       "      <th>2</th>\n",
       "      <td>Sentences for Word2Vec</td>\n",
       "      <td>3000</td>\n",
       "    </tr>\n",
       "    <tr>\n",
       "      <th>3</th>\n",
       "      <td>Word2Vec vector size</td>\n",
       "      <td>200</td>\n",
       "    </tr>\n",
       "    <tr>\n",
       "      <th>4</th>\n",
       "      <td>BERT embedding dim</td>\n",
       "      <td>768</td>\n",
       "    </tr>\n",
       "    <tr>\n",
       "      <th>5</th>\n",
       "      <td>Models</td>\n",
       "      <td>Word2Vec (CBOW, Skip-gram); BERT base (uncased)</td>\n",
       "    </tr>\n",
       "    <tr>\n",
       "      <th>6</th>\n",
       "      <td>Compute device</td>\n",
       "      <td>cpu</td>\n",
       "    </tr>\n",
       "    <tr>\n",
       "      <th>7</th>\n",
       "      <td>Python</td>\n",
       "      <td>3.12.4</td>\n",
       "    </tr>\n",
       "  </tbody>\n",
       "</table>\n",
       "</div>"
      ],
      "text/plain": [
       "                              Item  \\\n",
       "0                     Dataset rows   \n",
       "1  Docs selected (for comparisons)   \n",
       "2           Sentences for Word2Vec   \n",
       "3             Word2Vec vector size   \n",
       "4               BERT embedding dim   \n",
       "5                           Models   \n",
       "6                   Compute device   \n",
       "7                           Python   \n",
       "\n",
       "                                             Value  \n",
       "0                                             7082  \n",
       "1                                               20  \n",
       "2                                             3000  \n",
       "3                                              200  \n",
       "4                                              768  \n",
       "5  Word2Vec (CBOW, Skip-gram); BERT base (uncased)  \n",
       "6                                              cpu  \n",
       "7                                           3.12.4  "
      ]
     },
     "execution_count": 19,
     "metadata": {},
     "output_type": "execute_result"
    }
   ],
   "source": [
    "import pandas as pd, platform\n",
    "\n",
    "def _device():\n",
    "    try:\n",
    "        import torch\n",
    "        return \"cuda\" if torch.cuda.is_available() else \"cpu\"\n",
    "    except Exception:\n",
    "        return \"cpu\"\n",
    "\n",
    "summary = pd.DataFrame([\n",
    "    (\"Dataset rows\", getattr(ds, \"num_rows\", len(ds))),\n",
    "    (\"Docs selected (for comparisons)\", len(docs)),\n",
    "    (\"Sentences for Word2Vec\", len(sentences)),\n",
    "    (\"Word2Vec vector size\", EMBED_DIM),\n",
    "    (\"BERT embedding dim\", 768),\n",
    "    (\"Models\", \"Word2Vec (CBOW, Skip-gram); BERT base (uncased)\"),\n",
    "    (\"Compute device\", _device()),\n",
    "    (\"Python\", platform.python_version()),\n",
    "], columns=[\"Item\", \"Value\"])\n",
    "\n",
    "summary"
   ]
  },
  {
   "cell_type": "markdown",
   "id": "2142b6cd-162d-4522-928a-c0b8f729797b",
   "metadata": {},
   "source": [
    "## Train Word2Vec\n",
    "\n",
    "Two variants with the same hyper-parameters:\n",
    "- **CBOW** (`sg=0`) and **Skip-gram** (`sg=1`)\n",
    "- `vector_size=200`, `window=5`, `min_count=3`, `epochs=5`\n",
    "\n",
    "We report vocab size (≈ **7.2k** on this run).\n"
   ]
  },
  {
   "cell_type": "markdown",
   "id": "3a604aa5",
   "metadata": {},
   "source": [
    "## 6. Train Word2Vec — CBOW vs Skip-gram"
   ]
  },
  {
   "cell_type": "code",
   "execution_count": 8,
   "id": "52166fc0",
   "metadata": {},
   "outputs": [
    {
     "name": "stdout",
     "output_type": "stream",
     "text": [
      "CBOW vocab size: 7189\n",
      "Skip-gram vocab size: 7189\n"
     ]
    }
   ],
   "source": [
    "\n",
    "from gensim.models import Word2Vec\n",
    "\n",
    "EMBED_DIM = 200\n",
    "WINDOW = 5\n",
    "MIN_COUNT = 3\n",
    "WORKERS = 2\n",
    "EPOCHS = 5\n",
    "\n",
    "w2v_cbow = Word2Vec(\n",
    "    sentences=sentences,\n",
    "    vector_size=EMBED_DIM,\n",
    "    window=WINDOW,\n",
    "    min_count=MIN_COUNT,\n",
    "    sg=0,            \n",
    "    workers=WORKERS,\n",
    "    epochs=EPOCHS,\n",
    ")\n",
    "\n",
    "w2v_sg = Word2Vec(\n",
    "    sentences=sentences,\n",
    "    vector_size=EMBED_DIM,\n",
    "    window=WINDOW,\n",
    "    min_count=MIN_COUNT,\n",
    "    sg=1,            \n",
    "    workers=WORKERS,\n",
    "    epochs=EPOCHS,\n",
    ")\n",
    "\n",
    "print(\"CBOW vocab size:\", len(w2v_cbow.wv))\n",
    "print(\"Skip-gram vocab size:\", len(w2v_sg.wv))\n"
   ]
  },
  {
   "cell_type": "markdown",
   "id": "20dc664b-3e15-43a5-b23f-463e12709549",
   "metadata": {},
   "source": [
    "## Document Embeddings (Word2Vec)\n",
    "\n",
    "For each document:\n",
    "1. lemmatize (`en_core_web_sm`)\n",
    "2. keep alpha tokens not in stopwords\n",
    "3. **mean-pool** word vectors → L2 normalize\n",
    "\n",
    "Outputs: `emb_cbow`, `emb_sg` with shape **(20, 200)**.\n"
   ]
  },
  {
   "cell_type": "markdown",
   "id": "314dec3a",
   "metadata": {},
   "source": [
    "## 7. Document Embeddings from Word2Vec (mean pooling)"
   ]
  },
  {
   "cell_type": "code",
   "execution_count": 9,
   "id": "a56cd269",
   "metadata": {},
   "outputs": [
    {
     "data": {
      "text/plain": [
       "((20, 200), (20, 200))"
      ]
     },
     "execution_count": 9,
     "metadata": {},
     "output_type": "execute_result"
    }
   ],
   "source": [
    "import numpy as np\n",
    "\n",
    "def spacy_lemmas(text):\n",
    "    return [t.lemma_.lower() for t in nlp(text) if t.is_alpha and not t.is_stop]\n",
    "\n",
    "def doc_embedding_mean(tokens, model):\n",
    "    vecs = [model.wv[w] for w in tokens if w in model.wv.key_to_index]\n",
    "    if not vecs:\n",
    "        return np.zeros(model.vector_size, dtype=np.float32)\n",
    "    v = np.mean(vecs, axis=0)\n",
    "    return v / (np.linalg.norm(v) + 1e-12)\n",
    "\n",
    "lem_docs = [spacy_lemmas(d) for d in docs]\n",
    "emb_cbow = np.vstack([doc_embedding_mean(lem, w2v_cbow) for lem in lem_docs])\n",
    "emb_sg   = np.vstack([doc_embedding_mean(lem, w2v_sg)   for lem in lem_docs])\n",
    "\n",
    "emb_cbow.shape, emb_sg.shape\n"
   ]
  },
  {
   "cell_type": "markdown",
   "id": "31cb31de-e05f-4e54-ad38-88cb4e592893",
   "metadata": {},
   "source": [
    "## Document Embeddings (BERT base)\n",
    "\n",
    "Model: `bert-base-uncased` (Transformers).  \n",
    "We compute two representations:\n",
    "- **mean pooled** last hidden state\n",
    "- **[CLS] token**\n",
    "\n",
    "L2-normalize per document. Shapes: **(20, 768)** for both.\n"
   ]
  },
  {
   "cell_type": "markdown",
   "id": "56774c2b",
   "metadata": {},
   "source": [
    "## 8. BERT Sentence Embeddings"
   ]
  },
  {
   "cell_type": "code",
   "execution_count": 10,
   "id": "4b6a8c90",
   "metadata": {},
   "outputs": [
    {
     "name": "stderr",
     "output_type": "stream",
     "text": [
      "C:\\Users\\ASUS\\AppData\\Local\\Programs\\Python\\Python312\\Lib\\site-packages\\huggingface_hub\\file_download.py:945: FutureWarning: `resume_download` is deprecated and will be removed in version 1.0.0. Downloads always resume when possible. If you want to force a new download, use `force_download=True`.\n",
      "  warnings.warn(\n",
      "'(ReadTimeoutError(\"HTTPSConnectionPool(host='huggingface.co', port=443): Read timed out. (read timeout=10)\"), '(Request ID: 02ec37ae-4952-4396-9b64-2b38a14d2ba7)')' thrown while requesting HEAD https://huggingface.co/bert-base-uncased/resolve/main/tokenizer_config.json\n",
      "Retrying in 1s [Retry 1/5].\n"
     ]
    },
    {
     "data": {
      "text/plain": [
       "((20, 768), (20, 768))"
      ]
     },
     "execution_count": 10,
     "metadata": {},
     "output_type": "execute_result"
    }
   ],
   "source": [
    "\n",
    "import torch\n",
    "from transformers import AutoTokenizer, AutoModel\n",
    "\n",
    "BERT_NAME = \"bert-base-uncased\"\n",
    "tokenizer = AutoTokenizer.from_pretrained(BERT_NAME)\n",
    "bert = AutoModel.from_pretrained(BERT_NAME)\n",
    "\n",
    "def bert_embed(texts, strategy=\"mean\"):\n",
    "    with torch.no_grad():\n",
    "        inputs = tokenizer(texts, padding=True, truncation=True, max_length=256, return_tensors=\"pt\")\n",
    "        outputs = bert(**inputs)\n",
    "        last_hidden = outputs.last_hidden_state\n",
    "        if strategy == \"cls\":\n",
    "            rep = last_hidden[:, 0, :]\n",
    "        else:\n",
    "            mask = inputs[\"attention_mask\"].unsqueeze(-1)\n",
    "            summed = (last_hidden * mask).sum(dim=1)\n",
    "            counts = mask.sum(dim=1).clamp(min=1)\n",
    "            rep = summed / counts\n",
    "        rep = torch.nn.functional.normalize(rep, p=2, dim=1)\n",
    "        return rep.cpu().numpy()\n",
    "\n",
    "emb_bert_mean = bert_embed(docs, \"mean\")\n",
    "emb_bert_cls  = bert_embed(docs, \"cls\")\n",
    "emb_bert_mean.shape, emb_bert_cls.shape\n"
   ]
  },
  {
   "cell_type": "markdown",
   "id": "2e6153e1-d646-4cd7-8124-21db9d9ffb9e",
   "metadata": {},
   "source": [
    "## Nearest-Neighbor Similarity\n",
    "\n",
    "Metric: **cosine similarity**.  \n",
    "We take a reference doc (`idx=0`) and list the **top-k** nearest docs for each embedding matrix (CBOW, Skip-gram, BERT mean/CLS).  \n",
    "Interpretation: high cosine ⇒ similar content/style in that embedding space.\n"
   ]
  },
  {
   "cell_type": "markdown",
   "id": "f746d5a2",
   "metadata": {},
   "source": [
    "## 9. Compare Similarities Across Models"
   ]
  },
  {
   "cell_type": "code",
   "execution_count": 11,
   "id": "5ca07793",
   "metadata": {},
   "outputs": [
    {
     "name": "stdout",
     "output_type": "stream",
     "text": [
      "Reference snippet: There's a surprising twist to Regina Willoughby's last season with Columbia City Ballet: It's also her 18-year-old daugh\n",
      "CBOW: [(12, 0.9992974996566772), (8, 0.9990760087966919), (14, 0.9987714886665344)]\n",
      "Skip-gram: [(4, 0.9908483028411865), (14, 0.9868487119674683), (7, 0.9860358834266663)]\n",
      "BERT mean: [(11, 0.9305070638656616), (4, 0.9300822019577026), (10, 0.909892201423645)]\n",
      "BERT CLS: [(4, 0.9071393609046936), (10, 0.8504142761230469), (11, 0.8368769884109497)]\n"
     ]
    }
   ],
   "source": [
    "\n",
    "from sklearn.metrics.pairwise import cosine_similarity\n",
    "\n",
    "def top_similar(idx, M, k=3):\n",
    "    sims = cosine_similarity(M[idx:idx+1], M)[0]\n",
    "    order = np.argsort(-sims)\n",
    "    return [(int(j), float(sims[j])) for j in order[1:k+1]]\n",
    "\n",
    "row = 0\n",
    "print(\"Reference snippet:\", docs[row][:120])\n",
    "print(\"CBOW:\", top_similar(row, emb_cbow))\n",
    "print(\"Skip-gram:\", top_similar(row, emb_sg))\n",
    "print(\"BERT mean:\", top_similar(row, emb_bert_mean))\n",
    "print(\"BERT CLS:\", top_similar(row, emb_bert_cls))\n"
   ]
  },
  {
   "cell_type": "markdown",
   "id": "00d0a542-2afe-431e-ab42-dfe71bf05083",
   "metadata": {},
   "source": [
    "## PCA (2D)\n",
    "\n",
    "We fit **PCA per model** to visualize relative structure among the 20 docs.  \n",
    "Note: positions are only comparable **within** a given plot, not across models.\n"
   ]
  },
  {
   "cell_type": "markdown",
   "id": "ace3c34c",
   "metadata": {},
   "source": [
    "## 10. Visualization of Embeddings (PCA 2D)"
   ]
  },
  {
   "cell_type": "code",
   "execution_count": 12,
   "id": "788eef49",
   "metadata": {},
   "outputs": [
    {
     "data": {
      "image/png": "[encoded data removed]",
      "text/plain": [
       "<Figure size 800x600 with 1 Axes>"
      ]
     },
     "metadata": {},
     "output_type": "display_data"
    },
    {
     "data": {
      "image/png": "[encoded data removed]",
      "text/plain": [
       "<Figure size 800x600 with 1 Axes>"
      ]
     },
     "metadata": {},
     "output_type": "display_data"
    },
    {
     "data": {
      "image/png": "[encoded data removed]",
      "text/plain": [
       "<Figure size 800x600 with 1 Axes>"
      ]
     },
     "metadata": {},
     "output_type": "display_data"
    }
   ],
   "source": [
    "\n",
    "import matplotlib.pyplot as plt\n",
    "from sklearn.decomposition import PCA\n",
    "\n",
    "labels = [f\"Doc {i}\" for i in range(len(docs))]\n",
    "\n",
    "def plot_embeddings(embeddings, title):\n",
    "    pca = PCA(n_components=2)\n",
    "    reduced = pca.fit_transform(embeddings)\n",
    "    plt.figure(figsize=(8,6))\n",
    "    plt.scatter(reduced[:,0], reduced[:,1])\n",
    "    for i, label in enumerate(labels):\n",
    "        plt.annotate(str(i), (reduced[i,0], reduced[i,1]))\n",
    "    plt.title(title)\n",
    "    plt.show()\n",
    "\n",
    "plot_embeddings(emb_cbow, \"CBOW Document Embeddings (PCA)\")\n",
    "plot_embeddings(emb_sg, \"Skip-gram Document Embeddings (PCA)\")\n",
    "plot_embeddings(emb_bert_mean, \"BERT (mean pooled) Document Embeddings (PCA)\")\n"
   ]
  },
  {
   "cell_type": "markdown",
   "id": "6fe00117-a54c-4244-9cff-48b071898f54",
   "metadata": {},
   "source": [
    "## t-SNE (2D)\n",
    "\n",
    "Per-model t-SNE with `perplexity=5`, `learning_rate=200`, `n_iter=1000`, `random_state=42`.  \n",
    "t-SNE emphasizes local neighborhoods; axes/scales are not comparable across runs/models.\n"
   ]
  },
  {
   "cell_type": "markdown",
   "id": "f611b049",
   "metadata": {},
   "source": [
    "## 11. Visualization of Embeddings with t-SNE (2D)"
   ]
  },
  {
   "cell_type": "code",
   "execution_count": 13,
   "id": "2f553c96",
   "metadata": {},
   "outputs": [
    {
     "data": {
      "image/png": "[encoded data removed]",
      "text/plain": [
       "<Figure size 800x600 with 1 Axes>"
      ]
     },
     "metadata": {},
     "output_type": "display_data"
    },
    {
     "data": {
      "image/png": "[encoded data removed]",
      "text/plain": [
       "<Figure size 800x600 with 1 Axes>"
      ]
     },
     "metadata": {},
     "output_type": "display_data"
    },
    {
     "data": {
      "image/png": "[encoded data removed]",
      "text/plain": [
       "<Figure size 800x600 with 1 Axes>"
      ]
     },
     "metadata": {},
     "output_type": "display_data"
    }
   ],
   "source": [
    "\n",
    "from sklearn.manifold import TSNE\n",
    "\n",
    "def plot_tsne(embeddings, title):\n",
    "    tsne = TSNE(n_components=2, perplexity=5, learning_rate=200, n_iter=1000, random_state=42)\n",
    "    reduced = tsne.fit_transform(embeddings)\n",
    "    plt.figure(figsize=(8,6))\n",
    "    plt.scatter(reduced[:,0], reduced[:,1])\n",
    "    for i, label in enumerate(labels):\n",
    "        plt.annotate(str(i), (reduced[i,0], reduced[i,1]))\n",
    "    plt.title(title)\n",
    "    plt.show()\n",
    "\n",
    "plot_tsne(emb_cbow, \"CBOW Document Embeddings (t-SNE)\")\n",
    "plot_tsne(emb_sg, \"Skip-gram Document Embeddings (t-SNE)\")\n",
    "plot_tsne(emb_bert_mean, \"BERT (mean pooled) Document Embeddings (t-SNE)\")\n"
   ]
  },
  {
   "cell_type": "markdown",
   "id": "d0750f9c",
   "metadata": {},
   "source": [
    "## 12. Discussion"
   ]
  },
  {
   "cell_type": "markdown",
   "id": "9fbdbdad",
   "metadata": {},
   "source": [
    "\n",
    "\n",
    "- **CBOW**: very fast; similarities reflect lexical/lemma overlap and frequent terms.\n",
    "- **Skip-gram**: similar behavior here; sometimes models rarer words a bit better.\n",
    "- **BERT**: context-aware; nearest neighbors overlap with Word2Vec but are not identical, suggesting a more nuanced semantic signal.\n",
    "- **Visuals**: PCA shows broad structure; t-SNE shows alternative local groupings—each model organizes the same 20 docs differently.\n"
   ]
  },
  {
   "cell_type": "markdown",
   "id": "62228376-4d9c-4531-96a7-a3c2c4243a30",
   "metadata": {},
   "source": [
    "## Benchmark Setup\n",
    "\n",
    "Simple CPU timing:\n",
    "- Measure doc-embedding inference for **CBOW**, **Skip-gram**, **BERT-mean**\n",
    "- Report wall-time and rough memory delta for the **20** documents\n",
    "- Expect BERT to be slower due to transformer forward passes\n"
   ]
  },
  {
   "cell_type": "markdown",
   "id": "55d92981",
   "metadata": {},
   "source": [
    "## 13. Benchmark: Runtime & Memory Usage"
   ]
  },
  {
   "cell_type": "code",
   "execution_count": 14,
   "id": "e571545a",
   "metadata": {},
   "outputs": [
    {
     "data": {
      "text/html": [
       "<div>\n",
       "<style scoped>\n",
       "    .dataframe tbody tr th:only-of-type {\n",
       "        vertical-align: middle;\n",
       "    }\n",
       "\n",
       "    .dataframe tbody tr th {\n",
       "        vertical-align: top;\n",
       "    }\n",
       "\n",
       "    .dataframe thead th {\n",
       "        text-align: right;\n",
       "    }\n",
       "</style>\n",
       "<table border=\"1\" class=\"dataframe\">\n",
       "  <thead>\n",
       "    <tr style=\"text-align: right;\">\n",
       "      <th></th>\n",
       "      <th>Model</th>\n",
       "      <th>Time (s)</th>\n",
       "      <th>Mem Δ (MB)</th>\n",
       "    </tr>\n",
       "  </thead>\n",
       "  <tbody>\n",
       "    <tr>\n",
       "      <th>0</th>\n",
       "      <td>Word2Vec CBOW</td>\n",
       "      <td>1.670</td>\n",
       "      <td>4.56</td>\n",
       "    </tr>\n",
       "    <tr>\n",
       "      <th>1</th>\n",
       "      <td>Word2Vec Skip-gram</td>\n",
       "      <td>1.692</td>\n",
       "      <td>-0.36</td>\n",
       "    </tr>\n",
       "    <tr>\n",
       "      <th>2</th>\n",
       "      <td>BERT (mean)</td>\n",
       "      <td>13.129</td>\n",
       "      <td>0.21</td>\n",
       "    </tr>\n",
       "  </tbody>\n",
       "</table>\n",
       "</div>"
      ],
      "text/plain": [
       "                Model  Time (s)  Mem Δ (MB)\n",
       "0       Word2Vec CBOW     1.670        4.56\n",
       "1  Word2Vec Skip-gram     1.692       -0.36\n",
       "2         BERT (mean)    13.129        0.21"
      ]
     },
     "execution_count": 14,
     "metadata": {},
     "output_type": "execute_result"
    }
   ],
   "source": [
    "\n",
    "import time, psutil, os\n",
    "import pandas as pd\n",
    "\n",
    "def measure_time_mem(func, *args, **kwargs):\n",
    "    process = psutil.Process(os.getpid())\n",
    "    mem_before = process.memory_info().rss / (1024*1024)\n",
    "    t0 = time.time()\n",
    "    result = func(*args, **kwargs)\n",
    "    elapsed = time.time() - t0\n",
    "    mem_after = process.memory_info().rss / (1024*1024)\n",
    "    return elapsed, mem_after - mem_before, result\n",
    "\n",
    "benchmarks = []\n",
    "\n",
    "# CBOW inference on docs\n",
    "t, m, _ = measure_time_mem(lambda: [doc_embedding_mean(spacy_lemmas(d), w2v_cbow) for d in docs])\n",
    "benchmarks.append({\"Model\": \"Word2Vec CBOW\", \"Time (s)\": round(t,3), \"Mem Δ (MB)\": round(m,2)})\n",
    "\n",
    "# Skip-gram inference on docs\n",
    "t, m, _ = measure_time_mem(lambda: [doc_embedding_mean(spacy_lemmas(d), w2v_sg) for d in docs])\n",
    "benchmarks.append({\"Model\": \"Word2Vec Skip-gram\", \"Time (s)\": round(t,3), \"Mem Δ (MB)\": round(m,2)})\n",
    "\n",
    "# BERT inference on docs\n",
    "t, m, _ = measure_time_mem(lambda: bert_embed(docs, \"mean\"))\n",
    "benchmarks.append({\"Model\": \"BERT (mean)\", \"Time (s)\": round(t,3), \"Mem Δ (MB)\": round(m,2)})\n",
    "\n",
    "pd.DataFrame(benchmarks)\n"
   ]
  },
  {
   "cell_type": "markdown",
   "id": "7ae4ede0-4092-4875-9ea2-7c54daf02ebb",
   "metadata": {},
   "source": [
    "## Conclusion\n",
    "\n",
    "This lab successfully built and compared **Word2Vec (CBOW & Skip-gram)** and **BERT base** embeddings on a tiny CC-News slice.\n",
    "\n",
    "**Observed results**\n",
    "- **Embeddings produced:** Word2Vec docs **(20×200)**; BERT docs **(20×768)**.\n",
    "- **Nearest neighbors:** All models returned coherent neighbors; BERT often differed subtly from Word2Vec, indicating more context sensitivity.\n",
    "- **Visual structure:** PCA/t-SNE plots revealed reasonable clusters per model, with BERT showing slightly broader spread.\n",
    "- **Cost trade-off (CPU):**1.67–1.69 s** for Word2Vec vs **~13.1 s** for BERT (20 docs). Word2Vec is ~8× faster here; BERT is slower but more nuanced.\n",
    "\n",
    "**Takeaway.** Word2Vec is a strong, fast baseline, while BERT provides richer semantics at higher compute cost \n"
   ]
  },
  {
   "cell_type": "code",
   "execution_count": null,
   "id": "f8f151e3-6a0a-4b73-9ca9-c8b1eb2b9425",
   "metadata": {},
   "outputs": [],
   "source": []
  }
 ],
 "metadata": {
  "kernelspec": {
   "display_name": "Python 3 (ipykernel)",
   "language": "python",
   "name": "python3"
  },
  "language_info": {
   "codemirror_mode": {
    "name": "ipython",
    "version": 3
   },
   "file_extension": ".py",
   "mimetype": "text/x-python",
   "name": "python",
   "nbconvert_exporter": "python",
   "pygments_lexer": "ipython3",
   "version": "3.12.3"
  }
 },
 "nbformat": 4,
 "nbformat_minor": 5
}
