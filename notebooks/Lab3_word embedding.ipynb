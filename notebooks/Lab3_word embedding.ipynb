{
 "cells": [
  {
   "cell_type": "markdown",
   "metadata": {},
   "source": [
    "### Word Embeddings with Word2Vec on a Text Corpus"
   ]
  },
  {
   "cell_type": "code",
   "execution_count": 6,
   "metadata": {},
   "outputs": [
    {
     "name": "stdout",
     "output_type": "stream",
     "text": [
      "Requirement already satisfied: gensim in c:\\users\\ines\\anaconda3\\lib\\site-packages (4.0.1)Note: you may need to restart the kernel to use updated packages.\n",
      "\n",
      "Requirement already satisfied: nltk in c:\\users\\ines\\anaconda3\\lib\\site-packages (3.5)\n",
      "Requirement already satisfied: scikit-learn in c:\\users\\ines\\anaconda3\\lib\\site-packages (1.1.2)\n",
      "Requirement already satisfied: matplotlib in c:\\users\\ines\\anaconda3\\lib\\site-packages (3.2.2)\n",
      "Requirement already satisfied: pandas in c:\\users\\ines\\anaconda3\\lib\\site-packages (1.4.4)\n",
      "Requirement already satisfied: scipy>=0.18.1 in c:\\users\\ines\\anaconda3\\lib\\site-packages (from gensim) (1.10.1)\n",
      "Requirement already satisfied: smart-open>=1.8.1 in c:\\users\\ines\\anaconda3\\lib\\site-packages (from gensim) (6.3.0)\n",
      "Requirement already satisfied: numpy>=1.11.3 in c:\\users\\ines\\anaconda3\\lib\\site-packages (from gensim) (1.21.0)\n",
      "Requirement already satisfied: Cython==0.29.21 in c:\\users\\ines\\anaconda3\\lib\\site-packages (from gensim) (0.29.21)\n",
      "Requirement already satisfied: joblib in c:\\users\\ines\\anaconda3\\lib\\site-packages (from nltk) (1.1.0)\n",
      "Requirement already satisfied: click in c:\\users\\ines\\anaconda3\\lib\\site-packages (from nltk) (7.1.2)\n",
      "Requirement already satisfied: tqdm in c:\\users\\ines\\anaconda3\\lib\\site-packages (from nltk) (4.64.1)\n",
      "Requirement already satisfied: regex in c:\\users\\ines\\anaconda3\\lib\\site-packages (from nltk) (2020.6.8)\n",
      "Requirement already satisfied: threadpoolctl>=2.0.0 in c:\\users\\ines\\anaconda3\\lib\\site-packages (from scikit-learn) (2.1.0)\n",
      "Requirement already satisfied: kiwisolver>=1.0.1 in c:\\users\\ines\\anaconda3\\lib\\site-packages (from matplotlib) (1.2.0)\n",
      "Requirement already satisfied: python-dateutil>=2.1 in c:\\users\\ines\\anaconda3\\lib\\site-packages (from matplotlib) (2.8.1)\n",
      "Requirement already satisfied: cycler>=0.10 in c:\\users\\ines\\anaconda3\\lib\\site-packages (from matplotlib) (0.10.0)\n",
      "Requirement already satisfied: pyparsing!=2.0.4,!=2.1.2,!=2.1.6,>=2.0.1 in c:\\users\\ines\\anaconda3\\lib\\site-packages (from matplotlib) (2.4.7)\n",
      "Requirement already satisfied: pytz>=2020.1 in c:\\users\\ines\\anaconda3\\lib\\site-packages (from pandas) (2020.1)\n",
      "Requirement already satisfied: colorama; platform_system == \"Windows\" in c:\\users\\ines\\anaconda3\\lib\\site-packages (from tqdm->nltk) (0.4.6)\n",
      "Requirement already satisfied: six>=1.5 in c:\\users\\ines\\anaconda3\\lib\\site-packages (from python-dateutil>=2.1->matplotlib) (1.15.0)\n"
     ]
    }
   ],
   "source": [
    "pip install gensim nltk scikit-learn matplotlib pandas\n"
   ]
  },
  {
   "cell_type": "code",
   "execution_count": 7,
   "metadata": {},
   "outputs": [
    {
     "name": "stderr",
     "output_type": "stream",
     "text": [
      "[nltk_data] Downloading package punkt to\n",
      "[nltk_data]     C:\\Users\\Ines\\AppData\\Roaming\\nltk_data...\n",
      "[nltk_data]   Unzipping tokenizers\\punkt.zip.\n"
     ]
    },
    {
     "data": {
      "text/plain": [
       "True"
      ]
     },
     "execution_count": 7,
     "metadata": {},
     "output_type": "execute_result"
    }
   ],
   "source": [
    "import nltk\n",
    "from gensim.models import Word2Vec\n",
    "from sklearn.decomposition import PCA\n",
    "import matplotlib.pyplot as plt\n",
    "import pandas as pd\n",
    "nltk.download('punkt')"
   ]
  },
  {
   "cell_type": "markdown",
   "metadata": {},
   "source": [
    "#### 1. Text Preprocessing"
   ]
  },
  {
   "cell_type": "markdown",
   "metadata": {},
   "source": [
    "##### Step 1: Load a text corpus (e.g., a small collection of sentences)"
   ]
  },
  {
   "cell_type": "code",
   "execution_count": 8,
   "metadata": {},
   "outputs": [],
   "source": [
    "corpus = \"\"\"\n",
    "Natural language processing (NLP) is a sub-field of artificial intelligence.\n",
    "Machine learning is transforming the field of NLP.\n",
    "Deep learning techniques, such as word embeddings, are revolutionizing the industry.\n",
    "Word2Vec is one of the most popular models for word representation.\n",
    "These word embeddings are used in many NLP applications.\n",
    "Natural language processing is becoming more prevalent with the rise of AI.\n",
    "\"\"\""
   ]
  },
  {
   "cell_type": "markdown",
   "metadata": {},
   "source": [
    "##### Step 2: Tokenize the sentences"
   ]
  },
  {
   "cell_type": "code",
   "execution_count": 9,
   "metadata": {},
   "outputs": [
    {
     "name": "stdout",
     "output_type": "stream",
     "text": [
      "[['natural', 'language', 'processing', '(', 'nlp', ')', 'is', 'a', 'sub-field', 'of', 'artificial', 'intelligence', '.'], ['machine', 'learning', 'is', 'transforming', 'the', 'field', 'of', 'nlp', '.'], ['deep', 'learning', 'techniques', ',', 'such', 'as', 'word', 'embeddings', ',', 'are', 'revolutionizing', 'the', 'industry', '.'], ['word2vec', 'is', 'one', 'of', 'the', 'most', 'popular', 'models', 'for', 'word', 'representation', '.'], ['these', 'word', 'embeddings', 'are', 'used', 'in', 'many', 'nlp', 'applications', '.'], ['natural', 'language', 'processing', 'is', 'becoming', 'more', 'prevalent', 'with', 'the', 'rise', 'of', 'ai', '.']]\n"
     ]
    }
   ],
   "source": [
    "# Split text into sentences\n",
    "sentences = nltk.sent_tokenize(corpus)\n",
    "\n",
    "# Tokenize each sentence into words\n",
    "tokenized_sentences = [nltk.word_tokenize(sentence.lower()) for sentence in sentences]\n",
    "\n",
    "print(tokenized_sentences)"
   ]
  },
  {
   "cell_type": "markdown",
   "metadata": {},
   "source": [
    "#### 2. Train a Word2Vec Model"
   ]
  },
  {
   "cell_type": "markdown",
   "metadata": {},
   "source": [
    "##### Train the Word2Vec model on the tokenized sentences"
   ]
  },
  {
   "cell_type": "code",
   "execution_count": 10,
   "metadata": {},
   "outputs": [
    {
     "name": "stdout",
     "output_type": "stream",
     "text": [
      "Word Vector for 'nlp':\n",
      " [-0.04313609  0.01836386  0.02593212  0.02869925  0.03738099 -0.03083979\n",
      "  0.00556081  0.03020607 -0.01420551 -0.03082686 -0.00206781 -0.04187631\n",
      " -0.02794586  0.0355284   0.01681667  0.03612844  0.03400088  0.03764498\n",
      " -0.01893416 -0.00285061]\n"
     ]
    }
   ],
   "source": [
    "# Train Word2Vec model\n",
    "model = Word2Vec(sentences=tokenized_sentences, vector_size=20, window=2, min_count=1, workers=4)\n",
    "\n",
    "# Print a sample word vector for \"nlp\"\n",
    "print(\"Word Vector for 'nlp':\\n\", model.wv['nlp'])\n"
   ]
  },
  {
   "cell_type": "markdown",
   "metadata": {},
   "source": [
    "#### 3. Word Vector Visualization"
   ]
  },
  {
   "cell_type": "markdown",
   "metadata": {},
   "source": [
    "##### Step 1: Extract word vectors for a few words"
   ]
  },
  {
   "cell_type": "code",
   "execution_count": 11,
   "metadata": {},
   "outputs": [],
   "source": [
    "# Select a few words for visualization\n",
    "words = [\"nlp\", \"learning\", \"deep\", \"word2vec\", \"ai\", \"techniques\", \"embeddings\"]\n",
    "\n",
    "# Extract word vectors\n",
    "word_vectors = [model.wv[word] for word in words]\n",
    "\n",
    "# Reduce the dimensionality to 2D using PCA\n",
    "pca = PCA(n_components=2)\n",
    "word_vectors_2d = pca.fit_transform(word_vectors)\n",
    "\n",
    "# Create a DataFrame for easier visualization\n",
    "df = pd.DataFrame(word_vectors_2d, index=words, columns=['x', 'y'])\n"
   ]
  },
  {
   "cell_type": "markdown",
   "metadata": {},
   "source": [
    "##### Step 2: Plot the word vectors in 2D"
   ]
  },
  {
   "cell_type": "code",
   "execution_count": 12,
   "metadata": {},
   "outputs": [
    {
     "data": {
      "image/png": "[encoded data removed]",
      "text/plain": [
       "<Figure size 720x432 with 1 Axes>"
      ]
     },
     "metadata": {
      "needs_background": "light"
     },
     "output_type": "display_data"
    }
   ],
   "source": [
    "# Plot the word vectors in 2D space\n",
    "plt.figure(figsize=(10, 6))\n",
    "plt.scatter(df['x'], df['y'])\n",
    "\n",
    "# Annotate each word at its vector location\n",
    "for word, pos in df.iterrows():\n",
    "    plt.annotate(word, pos)\n",
    "\n",
    "plt.title(\"Word2Vec Word Embeddings Visualization\")\n",
    "plt.xlabel(\"PCA Component 1\")\n",
    "plt.ylabel(\"PCA Component 2\")\n",
    "plt.grid(True)\n",
    "plt.show()\n"
   ]
  },
  {
   "cell_type": "markdown",
   "metadata": {},
   "source": [
    "#### 4.Exploring Similarity between Words"
   ]
  },
  {
   "cell_type": "markdown",
   "metadata": {},
   "source": [
    "##### Step 1: Find similar words"
   ]
  },
  {
   "cell_type": "code",
   "execution_count": 13,
   "metadata": {},
   "outputs": [
    {
     "name": "stdout",
     "output_type": "stream",
     "text": [
      "Most similar words to 'nlp':\n",
      " [('artificial', 0.5350016951560974), ('.', 0.3959263265132904), ('sub-field', 0.3877207934856415)]\n"
     ]
    }
   ],
   "source": [
    "# Find words similar to 'nlp'\n",
    "similar_words_nlp = model.wv.most_similar('nlp', topn=3)\n",
    "print(\"Most similar words to 'nlp':\\n\", similar_words_nlp)\n"
   ]
  },
  {
   "cell_type": "markdown",
   "metadata": {},
   "source": [
    "##### Step 2: Evaluate word similarity"
   ]
  },
  {
   "cell_type": "code",
   "execution_count": 14,
   "metadata": {},
   "outputs": [
    {
     "name": "stdout",
     "output_type": "stream",
     "text": [
      "Similarity between 'nlp' and 'ai': 0.1808277815580368\n"
     ]
    }
   ],
   "source": [
    "# Evaluate similarity between two words\n",
    "similarity_score = model.wv.similarity('nlp', 'ai')\n",
    "print(f\"Similarity between 'nlp' and 'ai': {similarity_score}\")\n"
   ]
  }
 ],
 "metadata": {
  "kernelspec": {
   "display_name": "Python 3",
   "language": "python",
   "name": "python3"
  },
  "language_info": {
   "codemirror_mode": {
    "name": "ipython",
    "version": 3
   },
   "file_extension": ".py",
   "mimetype": "text/x-python",
   "name": "python",
   "nbconvert_exporter": "python",
   "pygments_lexer": "ipython3",
   "version": "3.8.3"
  }
 },
 "nbformat": 4,
 "nbformat_minor": 4
}
