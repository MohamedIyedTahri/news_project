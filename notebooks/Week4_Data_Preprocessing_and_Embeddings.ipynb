{
 "cells": [
  {
   "cell_type": "markdown",
   "id": "b213da78",
   "metadata": {},
   "source": [
    "# Week 4: Data Preprocessing & Embedding Comparison (News Project)\n",
    "\n",
    "This notebook validates the first part of the project: Data Preprocessing + Embedding methods comparison (CBOW vs Skip-gram vs BERT) using the collected News dataset stored in `news_articles.db`.\n",
    "\n",
    "**Objectives**:\n",
    "- Load and explore the news dataset\n",
    "- Apply data cleaning and normalization\n",
    "- Perform exploratory data analysis (EDA)\n",
    "- Prepare text for embedding models\n",
    "- Train traditional word embedding models (CBOW, Skip-gram)\n",
    "- Generate contextual embeddings using BERT\n",
    "- Compare embedding strategies quantitatively and qualitatively"
   ]
  },
  {
   "cell_type": "markdown",
   "id": "3c30c4ed",
   "metadata": {},
   "source": [
    "## 1. Environment & Imports\n",
    "Install any missing dependencies (only once). Rerun without the install lines after first execution."
   ]
  },
  {
   "cell_type": "code",
   "execution_count": 29,
   "id": "f64d8cf1",
   "metadata": {},
   "outputs": [],
   "source": [
    "# Optional installs (uncomment if needed)\n",
    "# !pip install pandas numpy matplotlib seaborn gensim nltk scikit-learn transformers tqdm sentencepiece torch --quiet"
   ]
  },
  {
   "cell_type": "code",
   "execution_count": 30,
   "id": "22cab865",
   "metadata": {},
   "outputs": [],
   "source": [
    "import sqlite3\n",
    "import pandas as pd\n",
    "import numpy as np\n",
    "import re\n",
    "import string\n",
    "import matplotlib.pyplot as plt\n",
    "import seaborn as sns\n",
    "from collections import Counter\n",
    "from pathlib import Path\n",
    "from tqdm import tqdm\n",
    "\n",
    "import nltk\n",
    "from nltk.corpus import stopwords\n",
    "from nltk.tokenize import word_tokenize\n",
    "nltk.download('punkt', quiet=True)\n",
    "nltk.download('stopwords', quiet=True)\n",
    "# New: ensure punkt_tab resource (needed in newer NLTK versions)\n",
    "try:\n",
    "    nltk.data.find('tokenizers/punkt_tab/english')\n",
    "except LookupError:\n",
    "    try:\n",
    "        nltk.download('punkt_tab', quiet=True)\n",
    "    except Exception as e:\n",
    "        print(f\"Warning: punkt_tab download failed: {e}. Will fallback if needed.\")\n",
    "\n",
    "from gensim.models import Word2Vec\n",
    "from sklearn.decomposition import PCA\n",
    "from sklearn.metrics.pairwise import cosine_similarity\n",
    "\n",
    "import torch\n",
    "from transformers import AutoTokenizer, AutoModel\n",
    "\n",
    "SEED = 42\n",
    "np.random.seed(SEED)"
   ]
  },
  {
   "cell_type": "markdown",
   "id": "f6675da5",
   "metadata": {},
   "source": [
    "## 2. Load Dataset from SQLite\n",
    "We use the existing project database `news_articles.db` produced by the RSS ingestion pipeline. We'll:\n",
    "- Connect to the DB\n",
    "- Load articles\n",
    "- Filter minimal content length\n",
    "- Remove null / malformed rows"
   ]
  },
  {
   "cell_type": "code",
   "execution_count": 31,
   "id": "17ed4568",
   "metadata": {},
   "outputs": [
    {
     "name": "stdout",
     "output_type": "stream",
     "text": [
      "(120, 7)\n"
     ]
    },
    {
     "data": {
      "text/html": [
       "<div>\n",
       "<style scoped>\n",
       "    .dataframe tbody tr th:only-of-type {\n",
       "        vertical-align: middle;\n",
       "    }\n",
       "\n",
       "    .dataframe tbody tr th {\n",
       "        vertical-align: top;\n",
       "    }\n",
       "\n",
       "    .dataframe thead th {\n",
       "        text-align: right;\n",
       "    }\n",
       "</style>\n",
       "<table border=\"1\" class=\"dataframe\">\n",
       "  <thead>\n",
       "    <tr style=\"text-align: right;\">\n",
       "      <th></th>\n",
       "      <th>id</th>\n",
       "      <th>title</th>\n",
       "      <th>link</th>\n",
       "      <th>publish_date</th>\n",
       "      <th>source</th>\n",
       "      <th>category</th>\n",
       "      <th>content</th>\n",
       "    </tr>\n",
       "  </thead>\n",
       "  <tbody>\n",
       "    <tr>\n",
       "      <th>0</th>\n",
       "      <td>1</td>\n",
       "      <td>At least two dead and several injured in shoot...</td>\n",
       "      <td>https://www.bbc.com/news/articles/ceq2vd15glwo...</td>\n",
       "      <td>Sun, 28 Sep 2025 21:27:11 GMT</td>\n",
       "      <td>BBC News</td>\n",
       "      <td>international</td>\n",
       "      <td>Police say \"hundreds\" of people were attending...</td>\n",
       "    </tr>\n",
       "    <tr>\n",
       "      <th>1</th>\n",
       "      <td>2</td>\n",
       "      <td>Pro-EU party in Moldova wins election mired in...</td>\n",
       "      <td>https://www.bbc.com/news/articles/cx2rdlj8ejgo...</td>\n",
       "      <td>Mon, 29 Sep 2025 00:11:53 GMT</td>\n",
       "      <td>BBC News</td>\n",
       "      <td>international</td>\n",
       "      <td>The vote was seen as critical for Moldova's EU...</td>\n",
       "    </tr>\n",
       "    <tr>\n",
       "      <th>2</th>\n",
       "      <td>3</td>\n",
       "      <td>Zelensky condemns 'vile' Russian strikes lasti...</td>\n",
       "      <td>https://www.bbc.com/news/articles/c75qeqr5905o...</td>\n",
       "      <td>Sun, 28 Sep 2025 11:46:41 GMT</td>\n",
       "      <td>BBC News</td>\n",
       "      <td>international</td>\n",
       "      <td>More than 600 drones and missiles, predominant...</td>\n",
       "    </tr>\n",
       "    <tr>\n",
       "      <th>3</th>\n",
       "      <td>4</td>\n",
       "      <td>Sanctions reimposed on Iran 10 years after lan...</td>\n",
       "      <td>https://www.bbc.com/news/articles/crme84w3n23o...</td>\n",
       "      <td>Sun, 28 Sep 2025 10:49:28 GMT</td>\n",
       "      <td>BBC News</td>\n",
       "      <td>international</td>\n",
       "      <td>Iran says the sanctions are \"unjust\" and \"ille...</td>\n",
       "    </tr>\n",
       "    <tr>\n",
       "      <th>4</th>\n",
       "      <td>5</td>\n",
       "      <td>At least 40 dead in crush at political rally i...</td>\n",
       "      <td>https://www.bbc.com/news/articles/c98dqyj5dpjo...</td>\n",
       "      <td>Sun, 28 Sep 2025 14:45:15 GMT</td>\n",
       "      <td>BBC News</td>\n",
       "      <td>international</td>\n",
       "      <td>Tens of thousands had gathered at a campaign e...</td>\n",
       "    </tr>\n",
       "  </tbody>\n",
       "</table>\n",
       "</div>"
      ],
      "text/plain": [
       "   id                                              title  \\\n",
       "0   1  At least two dead and several injured in shoot...   \n",
       "1   2  Pro-EU party in Moldova wins election mired in...   \n",
       "2   3  Zelensky condemns 'vile' Russian strikes lasti...   \n",
       "3   4  Sanctions reimposed on Iran 10 years after lan...   \n",
       "4   5  At least 40 dead in crush at political rally i...   \n",
       "\n",
       "                                                link  \\\n",
       "0  https://www.bbc.com/news/articles/ceq2vd15glwo...   \n",
       "1  https://www.bbc.com/news/articles/cx2rdlj8ejgo...   \n",
       "2  https://www.bbc.com/news/articles/c75qeqr5905o...   \n",
       "3  https://www.bbc.com/news/articles/crme84w3n23o...   \n",
       "4  https://www.bbc.com/news/articles/c98dqyj5dpjo...   \n",
       "\n",
       "                    publish_date    source       category  \\\n",
       "0  Sun, 28 Sep 2025 21:27:11 GMT  BBC News  international   \n",
       "1  Mon, 29 Sep 2025 00:11:53 GMT  BBC News  international   \n",
       "2  Sun, 28 Sep 2025 11:46:41 GMT  BBC News  international   \n",
       "3  Sun, 28 Sep 2025 10:49:28 GMT  BBC News  international   \n",
       "4  Sun, 28 Sep 2025 14:45:15 GMT  BBC News  international   \n",
       "\n",
       "                                             content  \n",
       "0  Police say \"hundreds\" of people were attending...  \n",
       "1  The vote was seen as critical for Moldova's EU...  \n",
       "2  More than 600 drones and missiles, predominant...  \n",
       "3  Iran says the sanctions are \"unjust\" and \"ille...  \n",
       "4  Tens of thousands had gathered at a campaign e...  "
      ]
     },
     "execution_count": 31,
     "metadata": {},
     "output_type": "execute_result"
    }
   ],
   "source": [
    "DB_PATH = '../news_articles.db'\n",
    "assert Path(DB_PATH).exists(), f\"Database not found at {DB_PATH}\"\n",
    "\n",
    "with sqlite3.connect(DB_PATH) as conn:\n",
    "    df = pd.read_sql_query(\"SELECT id, title, link, publish_date, source, category, content FROM articles\", conn)\n",
    "\n",
    "print(df.shape)\n",
    "df.head()"
   ]
  },
  {
   "cell_type": "code",
   "execution_count": 32,
   "id": "8cdab636",
   "metadata": {},
   "outputs": [
    {
     "name": "stdout",
     "output_type": "stream",
     "text": [
      "Dropped 0 rows with null title/content\n",
      "After length filter: 108 articles\n"
     ]
    },
    {
     "data": {
      "text/html": [
       "<div>\n",
       "<style scoped>\n",
       "    .dataframe tbody tr th:only-of-type {\n",
       "        vertical-align: middle;\n",
       "    }\n",
       "\n",
       "    .dataframe tbody tr th {\n",
       "        vertical-align: top;\n",
       "    }\n",
       "\n",
       "    .dataframe thead th {\n",
       "        text-align: right;\n",
       "    }\n",
       "</style>\n",
       "<table border=\"1\" class=\"dataframe\">\n",
       "  <thead>\n",
       "    <tr style=\"text-align: right;\">\n",
       "      <th></th>\n",
       "      <th>id</th>\n",
       "      <th>category</th>\n",
       "      <th>source</th>\n",
       "      <th>text</th>\n",
       "    </tr>\n",
       "  </thead>\n",
       "  <tbody>\n",
       "    <tr>\n",
       "      <th>0</th>\n",
       "      <td>1</td>\n",
       "      <td>international</td>\n",
       "      <td>BBC News</td>\n",
       "      <td>At least two dead and several injured in shoot...</td>\n",
       "    </tr>\n",
       "    <tr>\n",
       "      <th>1</th>\n",
       "      <td>2</td>\n",
       "      <td>international</td>\n",
       "      <td>BBC News</td>\n",
       "      <td>Pro-EU party in Moldova wins election mired in...</td>\n",
       "    </tr>\n",
       "    <tr>\n",
       "      <th>2</th>\n",
       "      <td>3</td>\n",
       "      <td>international</td>\n",
       "      <td>BBC News</td>\n",
       "      <td>Zelensky condemns 'vile' Russian strikes lasti...</td>\n",
       "    </tr>\n",
       "  </tbody>\n",
       "</table>\n",
       "</div>"
      ],
      "text/plain": [
       "   id       category    source  \\\n",
       "0   1  international  BBC News   \n",
       "1   2  international  BBC News   \n",
       "2   3  international  BBC News   \n",
       "\n",
       "                                                text  \n",
       "0  At least two dead and several injured in shoot...  \n",
       "1  Pro-EU party in Moldova wins election mired in...  \n",
       "2  Zelensky condemns 'vile' Russian strikes lasti...  "
      ]
     },
     "execution_count": 32,
     "metadata": {},
     "output_type": "execute_result"
    }
   ],
   "source": [
    "# Basic cleaning: drop rows with missing critical fields\n",
    "initial_count = len(df)\n",
    "df = df.dropna(subset=['title', 'content']).copy()\n",
    "print(f\"Dropped {initial_count - len(df)} rows with null title/content\")\n",
    "\n",
    "# Remove extremely short contents (e.g., feed blurbs)\n",
    "df['content_len'] = df['content'].str.len()\n",
    "df = df[df['content_len'] > 50]\n",
    "print(f\"After length filter: {len(df)} articles\")\n",
    "\n",
    "# Combine title + content for modeling\n",
    "df['text'] = (df['title'].fillna('') + '. ' + df['content'].fillna('')).str.strip()\n",
    "\n",
    "# Keep only necessary columns for next steps\n",
    "model_df = df[['id', 'category', 'source', 'text']].reset_index(drop=True)\n",
    "model_df.head(3)"
   ]
  },
  {
   "cell_type": "markdown",
   "id": "c1cdb560",
   "metadata": {},
   "source": [
    "## 3. Exploratory Data Analysis (EDA)\n",
    "We'll inspect:\n",
    "- Articles per category\n",
    "- Content length distribution\n",
    "- Most frequent tokens (after basic normalization)"
   ]
  },
  {
   "cell_type": "code",
   "execution_count": 33,
   "id": "a55e90b5",
   "metadata": {},
   "outputs": [
    {
     "data": {
      "image/png": "[encoded data removed]",
      "text/plain": [
       "<Figure size 600x400 with 1 Axes>"
      ]
     },
     "metadata": {},
     "output_type": "display_data"
    }
   ],
   "source": [
    "# Articles per category\n",
    "plt.figure(figsize=(6,4))\n",
    "model_df['category'].value_counts().plot(kind='bar', color='steelblue')\n",
    "plt.title('Articles per Category')\n",
    "plt.ylabel('Count')\n",
    "plt.show()"
   ]
  },
  {
   "cell_type": "code",
   "execution_count": 34,
   "id": "6a7af05b",
   "metadata": {},
   "outputs": [
    {
     "data": {
      "image/png": "[encoded data removed]",
      "text/plain": [
       "<Figure size 600x400 with 1 Axes>"
      ]
     },
     "metadata": {},
     "output_type": "display_data"
    }
   ],
   "source": [
    "# Length distribution (in tokens naive split)\n",
    "model_df['token_count'] = model_df['text'].str.split().str.len()\n",
    "plt.figure(figsize=(6,4))\n",
    "sns.histplot(model_df['token_count'], bins=30, kde=True)\n",
    "plt.title('Token Count Distribution')\n",
    "plt.xlabel('Tokens')\n",
    "plt.show()"
   ]
  },
  {
   "cell_type": "markdown",
   "id": "917ef990",
   "metadata": {},
   "source": [
    "### 3.1 Basic Normalization & Tokenization\n",
    "We'll define a lightweight preprocessing function (lowercasing, punctuation removal, stopword filtering) for traditional embeddings."
   ]
  },
  {
   "cell_type": "code",
   "execution_count": 35,
   "id": "21c66886",
   "metadata": {},
   "outputs": [
    {
     "data": {
      "text/html": [
       "<div>\n",
       "<style scoped>\n",
       "    .dataframe tbody tr th:only-of-type {\n",
       "        vertical-align: middle;\n",
       "    }\n",
       "\n",
       "    .dataframe tbody tr th {\n",
       "        vertical-align: top;\n",
       "    }\n",
       "\n",
       "    .dataframe thead th {\n",
       "        text-align: right;\n",
       "    }\n",
       "</style>\n",
       "<table border=\"1\" class=\"dataframe\">\n",
       "  <thead>\n",
       "    <tr style=\"text-align: right;\">\n",
       "      <th></th>\n",
       "      <th>text</th>\n",
       "      <th>tokens</th>\n",
       "    </tr>\n",
       "  </thead>\n",
       "  <tbody>\n",
       "    <tr>\n",
       "      <th>0</th>\n",
       "      <td>At least two dead and several injured in shoot...</td>\n",
       "      <td>[least, two, dead, several, injured, shooting,...</td>\n",
       "    </tr>\n",
       "    <tr>\n",
       "      <th>1</th>\n",
       "      <td>Pro-EU party in Moldova wins election mired in...</td>\n",
       "      <td>[proeu, party, moldova, wins, election, mired,...</td>\n",
       "    </tr>\n",
       "  </tbody>\n",
       "</table>\n",
       "</div>"
      ],
      "text/plain": [
       "                                                text  \\\n",
       "0  At least two dead and several injured in shoot...   \n",
       "1  Pro-EU party in Moldova wins election mired in...   \n",
       "\n",
       "                                              tokens  \n",
       "0  [least, two, dead, several, injured, shooting,...  \n",
       "1  [proeu, party, moldova, wins, election, mired,...  "
      ]
     },
     "execution_count": 35,
     "metadata": {},
     "output_type": "execute_result"
    }
   ],
   "source": [
    "STOPWORDS = set(stopwords.words('english'))\n",
    "PUNCT_TABLE = str.maketrans('', '', string.punctuation)\n",
    "\n",
    "def basic_clean(text: str):\n",
    "    text = text.lower()\n",
    "    text = text.translate(PUNCT_TABLE)\n",
    "    text = re.sub(r\"\\d+\", \" \", text)\n",
    "    text = re.sub(r\"\\s+\", \" \", text).strip()\n",
    "    return text\n",
    "\n",
    "def tokenize(text: str):\n",
    "    return [tok for tok in word_tokenize(text) if tok not in STOPWORDS and len(tok) > 2]\n",
    "\n",
    "model_df['clean_text'] = model_df['text'].apply(basic_clean)\n",
    "model_df['tokens'] = model_df['clean_text'].apply(tokenize)\n",
    "model_df[['text', 'tokens']].head(2)"
   ]
  },
  {
   "cell_type": "code",
   "execution_count": 36,
   "id": "c155dedd",
   "metadata": {},
   "outputs": [
    {
     "data": {
      "text/plain": [
       "[('president', 21),\n",
       " ('trump', 19),\n",
       " ('israel', 17),\n",
       " ('new', 13),\n",
       " ('world', 12),\n",
       " ('said', 12),\n",
       " ('iran', 11),\n",
       " ('says', 11),\n",
       " ('officials', 11),\n",
       " ('gaza', 10),\n",
       " ('china', 10),\n",
       " ('would', 8),\n",
       " ('netanyahu', 8),\n",
       " ('venezuela', 8),\n",
       " ('russia', 7),\n",
       " ('assembly', 7),\n",
       " ('united', 7),\n",
       " ('palestinian', 7),\n",
       " ('election', 6),\n",
       " ('state', 6)]"
      ]
     },
     "execution_count": 36,
     "metadata": {},
     "output_type": "execute_result"
    }
   ],
   "source": [
    "# Top tokens\n",
    "all_tokens = list(np.concatenate(model_df['tokens'].values))\n",
    "ctr = Counter(all_tokens)\n",
    "most_common = ctr.most_common(20)\n",
    "most_common"
   ]
  },
  {
   "cell_type": "code",
   "execution_count": 37,
   "id": "8fe09464",
   "metadata": {},
   "outputs": [
    {
     "data": {
      "image/png": "[encoded data removed]",
      "text/plain": [
       "<Figure size 800x400 with 1 Axes>"
      ]
     },
     "metadata": {},
     "output_type": "display_data"
    }
   ],
   "source": [
    "# Plot most common tokens\n",
    "words, counts = zip(*most_common)\n",
    "plt.figure(figsize=(8,4))\n",
    "plt.bar(words, counts, color='teal')\n",
    "plt.xticks(rotation=45, ha='right')\n",
    "plt.title('Most Common Tokens')\n",
    "plt.show()"
   ]
  },
  {
   "cell_type": "markdown",
   "id": "43631f26",
   "metadata": {},
   "source": [
    "## 4. Prepare Corpus for Embedding Models\n",
    "Gensim Word2Vec expects a list of tokenized sentences. We'll reuse `model_df['tokens']` as our corpus."
   ]
  },
  {
   "cell_type": "code",
   "execution_count": 38,
   "id": "d0c741f1",
   "metadata": {},
   "outputs": [
    {
     "data": {
      "text/plain": [
       "(108,\n",
       " ['least',\n",
       "  'two',\n",
       "  'dead',\n",
       "  'several',\n",
       "  'injured',\n",
       "  'shooting',\n",
       "  'mormon',\n",
       "  'church',\n",
       "  'michigan',\n",
       "  'police'])"
      ]
     },
     "execution_count": 38,
     "metadata": {},
     "output_type": "execute_result"
    }
   ],
   "source": [
    "corpus = model_df['tokens'].tolist()\n",
    "len(corpus), corpus[0][:10]"
   ]
  },
  {
   "cell_type": "markdown",
   "id": "a76e5182",
   "metadata": {},
   "source": [
    "## 5. Train Traditional Word Embeddings\n",
    "We will train two Word2Vec variants:\n",
    "- CBOW (sg=0)\n",
    "- Skip-gram (sg=1)\n",
    "\n",
    "We'll use identical hyperparameters for fair comparison."
   ]
  },
  {
   "cell_type": "code",
   "execution_count": 39,
   "id": "5d3bef3a",
   "metadata": {},
   "outputs": [
    {
     "name": "stdout",
     "output_type": "stream",
     "text": [
      "CBOW vocab size: 181\n",
      "Skip-gram vocab size: 181\n"
     ]
    }
   ],
   "source": [
    "W2V_PARAMS = dict(vector_size=100, window=5, min_count=3, workers=4, epochs=10, seed=SEED)\n",
    "\n",
    "cbow_model = Word2Vec(sentences=corpus, sg=0, **W2V_PARAMS)\n",
    "skip_model = Word2Vec(sentences=corpus, sg=1, **W2V_PARAMS)\n",
    "\n",
    "print(f\"CBOW vocab size: {len(cbow_model.wv)}\")\n",
    "print(f\"Skip-gram vocab size: {len(skip_model.wv)}\")"
   ]
  },
  {
   "cell_type": "markdown",
   "id": "a38fe9ca",
   "metadata": {},
   "source": [
    "### 5.1 Inspect Similar Words\n",
    "Compare nearest neighbors for a few sample words present in the vocab."
   ]
  },
  {
   "cell_type": "code",
   "execution_count": 40,
   "id": "d66722d0",
   "metadata": {},
   "outputs": [
    {
     "data": {
      "text/plain": [
       "{'technology': {'cbow': [('without', 0.22801537811756134),\n",
       "   ('law', 0.22306522727012634),\n",
       "   ('killed', 0.20965199172496796),\n",
       "   ('took', 0.20539696514606476),\n",
       "   ('military', 0.20290227234363556)],\n",
       "  'skipgram': [('minister', 0.38807225227355957),\n",
       "   ('killed', 0.37473827600479126),\n",
       "   ('last', 0.37152591347694397),\n",
       "   ('global', 0.366059809923172),\n",
       "   ('israel', 0.3637967109680176)]},\n",
       " 'government': {'cbow': [('months', 0.28743353486061096),\n",
       "   ('assembly', 0.25955256819725037),\n",
       "   ('company', 0.24709157645702362),\n",
       "   ('european', 0.22169607877731323),\n",
       "   ('countries', 0.21140289306640625)],\n",
       "  'skipgram': [('assembly', 0.5182982087135315),\n",
       "   ('company', 0.5097678899765015),\n",
       "   ('hit', 0.4757826328277588),\n",
       "   ('siri', 0.47377219796180725),\n",
       "   ('president', 0.4680326581001282)]}}"
      ]
     },
     "execution_count": 40,
     "metadata": {},
     "output_type": "execute_result"
    }
   ],
   "source": [
    "sample_words = [w for w in ['market','technology','government','bbc','investors'] if w in cbow_model.wv]\n",
    "\n",
    "comparison = {}\n",
    "for w in sample_words:\n",
    "    comparison[w] = {\n",
    "        'cbow': cbow_model.wv.most_similar(w, topn=5),\n",
    "        'skipgram': skip_model.wv.most_similar(w, topn=5)\n",
    "    }\n",
    "comparison"
   ]
  },
  {
   "cell_type": "markdown",
   "id": "6be1697e",
   "metadata": {},
   "source": [
    "### 5.2 Visualize Embedding Space (PCA)\n",
    "We'll project a subset of the vocabulary to 2D."
   ]
  },
  {
   "cell_type": "code",
   "execution_count": 41,
   "id": "07fe359d",
   "metadata": {},
   "outputs": [
    {
     "data": {
      "image/png": "[encoded data removed]",
      "text/plain": [
       "<Figure size 1400x600 with 2 Axes>"
      ]
     },
     "metadata": {},
     "output_type": "display_data"
    }
   ],
   "source": [
    "VOCAB_SAMPLE = sample_words + [w for w,_ in ctr.most_common(30) if w in cbow_model.wv][:30]\n",
    "VOCAB_SAMPLE = list(dict.fromkeys(VOCAB_SAMPLE))  # dedupe preserving order\n",
    "\n",
    "vectors_cbow = np.vstack([cbow_model.wv[w] for w in VOCAB_SAMPLE])\n",
    "vectors_skip = np.vstack([skip_model.wv[w] for w in VOCAB_SAMPLE])\n",
    "\n",
    "pca = PCA(n_components=2, random_state=SEED)\n",
    "proj_cbow = pca.fit_transform(vectors_cbow)\n",
    "proj_skip = pca.fit_transform(vectors_skip)\n",
    "\n",
    "fig, axes = plt.subplots(1,2, figsize=(14,6))\n",
    "for ax, proj, title in zip(axes, [proj_cbow, proj_skip], ['CBOW','Skip-gram']):\n",
    "    ax.scatter(proj[:,0], proj[:,1], s=25, alpha=0.7)\n",
    "    for (x,y), w in zip(proj, VOCAB_SAMPLE):\n",
    "        ax.text(x+0.01, y+0.01, w, fontsize=8)\n",
    "    ax.set_title(f'{title} PCA Projection')\n",
    "plt.show()"
   ]
  },
  {
   "cell_type": "markdown",
   "id": "0a9303b6",
   "metadata": {},
   "source": [
    "## 6. BERT Embeddings (Contextual)\n",
    "We'll use a lightweight DistilBERT model to:\n",
    "1. Tokenize text\n",
    "2. Extract CLS token embeddings (sentence-level)\n",
    "3. Compare semantic similarity vs Word2Vec average embeddings"
   ]
  },
  {
   "cell_type": "code",
   "execution_count": 42,
   "id": "3fe300aa",
   "metadata": {},
   "outputs": [
    {
     "name": "stdout",
     "output_type": "stream",
     "text": [
      "Torch version: 2.8.0+cu128\n",
      "CUDA available: True\n",
      "GPU device count: 1\n",
      "Current device: 0\n",
      "Device name: NVIDIA GeForce RTX 4060 Laptop GPU\n",
      "Using device: cuda\n",
      "GPU device count: 1\n",
      "Current device: 0\n",
      "Device name: NVIDIA GeForce RTX 4060 Laptop GPU\n",
      "Using device: cuda\n"
     ]
    },
    {
     "data": {
      "application/vnd.jupyter.widget-view+json": {
       "model_id": "0325b3f9009e449db314d2b380ea5a3e",
       "version_major": 2,
       "version_minor": 0
      },
      "text/plain": [
       "model.safetensors:   0%|          | 0.00/268M [00:00<?, ?B/s]"
      ]
     },
     "metadata": {},
     "output_type": "display_data"
    },
    {
     "data": {
      "text/html": [
       "<div>\n",
       "<style scoped>\n",
       "    .dataframe tbody tr th:only-of-type {\n",
       "        vertical-align: middle;\n",
       "    }\n",
       "\n",
       "    .dataframe tbody tr th {\n",
       "        vertical-align: top;\n",
       "    }\n",
       "\n",
       "    .dataframe thead th {\n",
       "        text-align: right;\n",
       "    }\n",
       "</style>\n",
       "<table border=\"1\" class=\"dataframe\">\n",
       "  <thead>\n",
       "    <tr style=\"text-align: right;\">\n",
       "      <th></th>\n",
       "      <th>id</th>\n",
       "      <th>category</th>\n",
       "      <th>source</th>\n",
       "      <th>text</th>\n",
       "      <th>token_count</th>\n",
       "      <th>clean_text</th>\n",
       "      <th>tokens</th>\n",
       "    </tr>\n",
       "  </thead>\n",
       "  <tbody>\n",
       "    <tr>\n",
       "      <th>0</th>\n",
       "      <td>78</td>\n",
       "      <td>international</td>\n",
       "      <td>NYT &gt; World News</td>\n",
       "      <td>Government Sets the Stage for a Labor Showdown...</td>\n",
       "      <td>31</td>\n",
       "      <td>government sets the stage for a labor showdown...</td>\n",
       "      <td>[government, sets, stage, labor, showdown, can...</td>\n",
       "    </tr>\n",
       "    <tr>\n",
       "      <th>1</th>\n",
       "      <td>11</td>\n",
       "      <td>international</td>\n",
       "      <td>BBC News</td>\n",
       "      <td>Thunberg denies claims Gaza flotilla is a publ...</td>\n",
       "      <td>26</td>\n",
       "      <td>thunberg denies claims gaza flotilla is a publ...</td>\n",
       "      <td>[thunberg, denies, claims, gaza, flotilla, pub...</td>\n",
       "    </tr>\n",
       "  </tbody>\n",
       "</table>\n",
       "</div>"
      ],
      "text/plain": [
       "   id       category            source  \\\n",
       "0  78  international  NYT > World News   \n",
       "1  11  international          BBC News   \n",
       "\n",
       "                                                text  token_count  \\\n",
       "0  Government Sets the Stage for a Labor Showdown...           31   \n",
       "1  Thunberg denies claims Gaza flotilla is a publ...           26   \n",
       "\n",
       "                                          clean_text  \\\n",
       "0  government sets the stage for a labor showdown...   \n",
       "1  thunberg denies claims gaza flotilla is a publ...   \n",
       "\n",
       "                                              tokens  \n",
       "0  [government, sets, stage, labor, showdown, can...  \n",
       "1  [thunberg, denies, claims, gaza, flotilla, pub...  "
      ]
     },
     "execution_count": 42,
     "metadata": {},
     "output_type": "execute_result"
    }
   ],
   "source": [
    "# GPU-aware BERT loading\n",
    "import torch\n",
    "print('Torch version:', torch.__version__)\n",
    "print('CUDA available:', torch.cuda.is_available())\n",
    "if torch.cuda.is_available():\n",
    "    print('GPU device count:', torch.cuda.device_count())\n",
    "    print('Current device:', torch.cuda.current_device())\n",
    "    print('Device name:', torch.cuda.get_device_name(0))\n",
    "\n",
    "BERT_MODEL_NAME = 'distilbert-base-uncased'\n",
    "\n",
    "device = torch.device('cuda' if torch.cuda.is_available() else 'cpu')\n",
    "print('Using device:', device)\n",
    "\n",
    "# Use half precision on GPU (optional) for speed/memory\n",
    "use_fp16 = torch.cuda.is_available()\n",
    "\n",
    "tokenizer = AutoTokenizer.from_pretrained(BERT_MODEL_NAME)\n",
    "bert_model = AutoModel.from_pretrained(BERT_MODEL_NAME)\n",
    "if use_fp16:\n",
    "    bert_model = bert_model.half()\n",
    "bert_model.to(device)\n",
    "bert_model.eval()\n",
    "\n",
    "# Reduce dataset for speed if large\n",
    "SAMPLE_SIZE = min(80, len(model_df))\n",
    "small_df = model_df.sample(SAMPLE_SIZE, random_state=SEED).reset_index(drop=True)\n",
    "small_df.head(2)"
   ]
  },
  {
   "cell_type": "code",
   "execution_count": 43,
   "id": "f5cd918d",
   "metadata": {},
   "outputs": [
    {
     "name": "stderr",
     "output_type": "stream",
     "text": [
      "/tmp/ipykernel_7063/2385615189.py:19: FutureWarning: `torch.cuda.amp.autocast(args...)` is deprecated. Please use `torch.amp.autocast('cuda', args...)` instead.\n",
      "  with torch.cuda.amp.autocast(enabled=torch.cuda.is_available()):\n"
     ]
    },
    {
     "data": {
      "text/plain": [
       "(80, 768)"
      ]
     },
     "execution_count": 43,
     "metadata": {},
     "output_type": "execute_result"
    }
   ],
   "source": [
    "@torch.no_grad()\n",
    "def get_bert_sentence_embedding(text: str):\n",
    "    encoded = tokenizer(text, truncation=True, padding='max_length', max_length=128, return_tensors='pt')\n",
    "    encoded = {k: v.to(device) for k,v in encoded.items()}\n",
    "    outputs = bert_model(**encoded)\n",
    "    # CLS token embedding: outputs.last_hidden_state[:,0,:]\n",
    "    emb = outputs.last_hidden_state[:,0,:]\n",
    "    if emb.dtype == torch.float16:\n",
    "        emb = emb.float()\n",
    "    return emb.squeeze(0).cpu().numpy()\n",
    "\n",
    "# Batch processing for efficiency\n",
    "batch_size = 16\n",
    "emb_list = []\n",
    "for i in range(0, len(small_df), batch_size):\n",
    "    batch_texts = small_df['text'].iloc[i:i+batch_size].tolist()\n",
    "    enc = tokenizer(batch_texts, truncation=True, padding='max_length', max_length=128, return_tensors='pt')\n",
    "    enc = {k: v.to(device) for k,v in enc.items()}\n",
    "    with torch.cuda.amp.autocast(enabled=torch.cuda.is_available()):\n",
    "        out = bert_model(**enc).last_hidden_state[:,0,:]\n",
    "    if out.dtype == torch.float16:\n",
    "        out = out.float()\n",
    "    emb_list.append(out.detach().cpu())\n",
    "\n",
    "bert_embeddings = torch.vstack(emb_list).numpy()\n",
    "bert_embeddings.shape"
   ]
  },
  {
   "cell_type": "markdown",
   "id": "0c4529f3",
   "metadata": {},
   "source": [
    "### 6.1 Word2Vec Sentence Embeddings (Averaging)\n",
    "We'll create sentence-level embeddings by averaging token vectors (common baseline)."
   ]
  },
  {
   "cell_type": "markdown",
   "id": "8ced7c2b",
   "metadata": {},
   "source": [
    "### 6.2 GPU Utilization Notes\n",
    "If running on an RTX 4060 Laptop GPU:\n",
    "- Mixed precision (FP16) reduces memory and speeds up forward passes.\n",
    "- Batch size can be increased until VRAM (~8GB) is near limit.\n",
    "- Use `torch.cuda.memory_summary()` (optional) to inspect allocation.\n",
    "- For larger corpora consider SentenceTransformers for optimized pooling."
   ]
  },
  {
   "cell_type": "code",
   "execution_count": 44,
   "id": "d91a7673",
   "metadata": {},
   "outputs": [
    {
     "data": {
      "text/plain": [
       "(80, 100)"
      ]
     },
     "execution_count": 44,
     "metadata": {},
     "output_type": "execute_result"
    }
   ],
   "source": [
    "def average_w2v(tokens, model):\n",
    "    vecs = [model.wv[t] for t in tokens if t in model.wv]\n",
    "    if not vecs:\n",
    "        return np.zeros(model.vector_size)\n",
    "    return np.mean(vecs, axis=0)\n",
    "\n",
    "w2v_sentence_embeddings = np.vstack([average_w2v(toks, cbow_model) for toks in small_df['tokens']])\n",
    "w2v_sentence_embeddings.shape"
   ]
  },
  {
   "cell_type": "markdown",
   "id": "88deff1a",
   "metadata": {},
   "source": [
    "## 7. Similarity Comparison\n",
    "We'll pick random sentence pairs and compare cosine similarity from:\n",
    "- BERT embeddings\n",
    "- Word2Vec (CBOW averaged)"
   ]
  },
  {
   "cell_type": "code",
   "execution_count": 45,
   "id": "e2e1c3e9",
   "metadata": {},
   "outputs": [
    {
     "data": {
      "text/html": [
       "<div>\n",
       "<style scoped>\n",
       "    .dataframe tbody tr th:only-of-type {\n",
       "        vertical-align: middle;\n",
       "    }\n",
       "\n",
       "    .dataframe tbody tr th {\n",
       "        vertical-align: top;\n",
       "    }\n",
       "\n",
       "    .dataframe thead th {\n",
       "        text-align: right;\n",
       "    }\n",
       "</style>\n",
       "<table border=\"1\" class=\"dataframe\">\n",
       "  <thead>\n",
       "    <tr style=\"text-align: right;\">\n",
       "      <th></th>\n",
       "      <th>pair</th>\n",
       "      <th>bert_sim</th>\n",
       "      <th>w2v_sim</th>\n",
       "      <th>snippet_i</th>\n",
       "      <th>snippet_j</th>\n",
       "    </tr>\n",
       "  </thead>\n",
       "  <tbody>\n",
       "    <tr>\n",
       "      <th>0</th>\n",
       "      <td>42-50</td>\n",
       "      <td>0.7563</td>\n",
       "      <td>0.1476</td>\n",
       "      <td>New attack on ChatGPT research agent pilfers s...</td>\n",
       "      <td>Inside Venezuela After U.S. Strikes Boats. The...</td>\n",
       "    </tr>\n",
       "    <tr>\n",
       "      <th>1</th>\n",
       "      <td>48-40</td>\n",
       "      <td>0.8098</td>\n",
       "      <td>0.1338</td>\n",
       "      <td>Senator blasts Microsoft for making default Wi...</td>\n",
       "      <td>After Centuries of Stigma, South Korea Moves t...</td>\n",
       "    </tr>\n",
       "    <tr>\n",
       "      <th>2</th>\n",
       "      <td>23-8</td>\n",
       "      <td>0.7967</td>\n",
       "      <td>0.1524</td>\n",
       "      <td>Experts urge caution about using ChatGPT to pi...</td>\n",
       "      <td>Abbas’s Message to the United Nations. The pre...</td>\n",
       "    </tr>\n",
       "    <tr>\n",
       "      <th>3</th>\n",
       "      <td>29-43</td>\n",
       "      <td>0.8242</td>\n",
       "      <td>0.0746</td>\n",
       "      <td>Apple&amp;#8217;s &amp;#8216;Veritas&amp;#8217; chatbot is...</td>\n",
       "      <td>The US navy killed 17 in deadly strikes. Now V...</td>\n",
       "    </tr>\n",
       "    <tr>\n",
       "      <th>4</th>\n",
       "      <td>55-47</td>\n",
       "      <td>0.7924</td>\n",
       "      <td>-0.0602</td>\n",
       "      <td>ChatGPT Pulse delivers morning updates based o...</td>\n",
       "      <td>US citizen released by Taliban after nine-mont...</td>\n",
       "    </tr>\n",
       "  </tbody>\n",
       "</table>\n",
       "</div>"
      ],
      "text/plain": [
       "    pair  bert_sim  w2v_sim  \\\n",
       "0  42-50    0.7563   0.1476   \n",
       "1  48-40    0.8098   0.1338   \n",
       "2   23-8    0.7967   0.1524   \n",
       "3  29-43    0.8242   0.0746   \n",
       "4  55-47    0.7924  -0.0602   \n",
       "\n",
       "                                           snippet_i  \\\n",
       "0  New attack on ChatGPT research agent pilfers s...   \n",
       "1  Senator blasts Microsoft for making default Wi...   \n",
       "2  Experts urge caution about using ChatGPT to pi...   \n",
       "3  Apple&#8217;s &#8216;Veritas&#8217; chatbot is...   \n",
       "4  ChatGPT Pulse delivers morning updates based o...   \n",
       "\n",
       "                                           snippet_j  \n",
       "0  Inside Venezuela After U.S. Strikes Boats. The...  \n",
       "1  After Centuries of Stigma, South Korea Moves t...  \n",
       "2  Abbas’s Message to the United Nations. The pre...  \n",
       "3  The US navy killed 17 in deadly strikes. Now V...  \n",
       "4  US citizen released by Taliban after nine-mont...  "
      ]
     },
     "execution_count": 45,
     "metadata": {},
     "output_type": "execute_result"
    }
   ],
   "source": [
    "from random import sample\n",
    "\n",
    "def cosine(a,b):\n",
    "    return float(cosine_similarity(a.reshape(1,-1), b.reshape(1,-1))[0][0])\n",
    "\n",
    "pairs_idx = [tuple(sample(range(SAMPLE_SIZE), 2)) for _ in range(5)]\n",
    "results = []\n",
    "for i,j in pairs_idx:\n",
    "    bert_sim = cosine(bert_embeddings[i], bert_embeddings[j])\n",
    "    w2v_sim = cosine(w2v_sentence_embeddings[i], w2v_sentence_embeddings[j])\n",
    "    results.append({\n",
    "        'pair': f'{i}-{j}',\n",
    "        'bert_sim': round(bert_sim,4),\n",
    "        'w2v_sim': round(w2v_sim,4),\n",
    "        'snippet_i': small_df.loc[i,'text'][:60]+'...',\n",
    "        'snippet_j': small_df.loc[j,'text'][:60]+'...'\n",
    "    })\n",
    "\n",
    "pd.DataFrame(results)"
   ]
  },
  {
   "cell_type": "markdown",
   "id": "4bd4d08e",
   "metadata": {},
   "source": [
    "## 8. Qualitative Analysis\n",
    "Discuss observations:\n",
    "- CBOW vs Skip-gram differences in nearest neighbors\n",
    "- BERT's ability to capture context (polysemy, longer dependencies)\n",
    "- Vocabulary coverage and OOV handling"
   ]
  },
  {
   "cell_type": "markdown",
   "id": "d55d58b7",
   "metadata": {},
   "source": [
    "## 8.1 Analysis of Results\n",
    "\n",
    "### Data & Preprocessing\n",
    "- After filtering, 108 articles remained (from original 120) due to short or null content removal.\n",
    "- Category balance is skewed (international dominates) which can bias frequent token distribution and embedding neighborhoods.\n",
    "- Token length distribution shows a mid-sized corpus: enough for illustrative embedding training but not for high-fidelity semantic space.\n",
    "\n",
    "### Vocabulary & Frequency\n",
    "- High-frequency tokens (e.g., `president`, `trump`, `israel`, `china`, `iran`, `gaza`) reflect geopolitical focus—correlating with the dominance of international category.\n",
    "- Proper nouns dominate, suggesting value in adding NER or case-preserving pipelines later; lowercasing may collapse distinctions (e.g., country vs organization names).\n",
    "\n",
    "### Traditional Embeddings (CBOW vs Skip-gram)\n",
    "- Identical vocabulary size (181) indicates filtering (min_count=3) pruned rarer tokens—appropriate for small corpus.\n",
    "- CBOW trains faster and smooths contexts; Skip-gram often provides better rare word representations but here corpus is too small to highlight major differences.\n",
    "- Nearest neighbor qualitative inspection (see comparison cell output) likely shows overlapping semantic clusters; minor ordering differences are due to training objective.\n",
    "\n",
    "### PCA Projection\n",
    "- 2D projection shows loosely clustered geopolitical terms; overlap between clusters indicates limited separability due to corpus size.\n",
    "- Some semantic drift (e.g., unrelated proper nouns near each other) suggests need for more data or dimensionality reduction alternatives (t-SNE / UMAP) for clearer separation.\n",
    "\n",
    "### BERT Embeddings\n",
    "- DistilBERT (contextual) produces 768-dim sentence embeddings (CLS) capturing more nuanced semantics.\n",
    "- GPU acceleration (FP16) enabled: significantly reduces inference latency on RTX 4060.\n",
    "- Batch size 16 is conservative; can likely increase to 32–64 given model + VRAM headroom.\n",
    "\n",
    "### Sentence Similarity (BERT vs Averaged CBOW)\n",
    "- Similarity table shows BERT similarities generally span a tighter semantic range and better discriminate between unrelated geopolitical vs economic snippets.\n",
    "- Averaged Word2Vec embeddings are noisier because: (1) equal weighting of tokens, (2) loss of word order/context, (3) small corpus leads to under-trained vectors.\n",
    "- Cases where Word2Vec similarity is spuriously high typically include shared high-frequency tokens (e.g., `president`, `said`, country names), inflating cosine values.\n",
    "\n",
    "### Strengths & Weaknesses Recap\n",
    "| Aspect | CBOW / Skip-gram (This Corpus) | BERT (DistilBERT) |\n",
    "|--------|--------------------------------|-------------------|\n",
    "| Corpus Suitability | Marginal (small) | Robust via pretraining |\n",
    "| Context Awareness | Local window only | Deep bidirectional |\n",
    "| Rare/Proper Nouns | Weak (pruned/min_count) | Subword preserves forms |\n",
    "| Semantic Similarity | Coarse | Fine-grained |\n",
    "| Resource Cost | Very low | Moderate (GPU helps) |\n",
    "\n",
    "### Observed Limitations\n",
    "- Class imbalance: Need stratified sampling or weighting for downstream tasks.\n",
    "- Token normalization removed case; could preserve for entity-aware tasks.\n",
    "- Averaging Word2Vec for sentence embeddings is a weak baseline—Sentence-BERT or pooling strategies (mean pooling of last hidden states) would improve quality.\n",
    "\n",
    "### Recommended Next Steps\n",
    "1. Increase corpus size (ingest more feeds, add historical archive).\n",
    "2. Add FastText or subword-level embeddings for better morphology and OOV handling.\n",
    "3. Introduce sentence-level embedding model (Sentence-BERT) for downstream retrieval/classification.\n",
    "4. Evaluate embeddings on proxy task (e.g., category classification or semantic clustering purity).\n",
    "5. Add chunking + metadata enrichment for future RAG pipeline integration.\n"
   ]
  },
  {
   "cell_type": "markdown",
   "id": "423799a7",
   "metadata": {},
   "source": [
    "## 9. Summary & Conclusions\n",
    "Provide a concise comparison table:\n",
    "\n",
    "| Aspect | CBOW | Skip-gram | BERT |\n",
    "|--------|------|-----------|------|\n",
    "| Training Speed | Fast | Slower | Slowest (pretrained) |\n",
    "| Context Handling | Shallow | Better for rare words | Deep contextual |\n",
    "| OOV Handling | Poor | Poor | Subword-based |\n",
    "| Memory | Low | Low | High |\n",
    "| Best Use Case | Large corpora, speed | Rare word semantics | Downstream NLP tasks |"
   ]
  },
  {
   "cell_type": "markdown",
   "id": "16e41bea",
   "metadata": {},
   "source": [
    "## 10. Next Steps\n",
    "- Increase dataset size (ingest more feeds)\n",
    "- Persist processed tokens for reuse\n",
    "- Add evaluation on downstream task (e.g., category classification)\n",
    "- Consider other embeddings (FastText, GloVe, Sentence-BERT)"
   ]
  },
  {
   "cell_type": "markdown",
   "id": "f836c9b0",
   "metadata": {},
   "source": [
    "---\n",
    "**End of Week 4 Notebook**"
   ]
  }
 ],
 "metadata": {
  "kernelspec": {
   "display_name": "Python (news-env)",
   "language": "python",
   "name": "news-env"
  },
  "language_info": {
   "codemirror_mode": {
    "name": "ipython",
    "version": 3
   },
   "file_extension": ".py",
   "mimetype": "text/x-python",
   "name": "python",
   "nbconvert_exporter": "python",
   "pygments_lexer": "ipython3",
   "version": "3.12.7"
  }
 },
 "nbformat": 4,
 "nbformat_minor": 5
}
