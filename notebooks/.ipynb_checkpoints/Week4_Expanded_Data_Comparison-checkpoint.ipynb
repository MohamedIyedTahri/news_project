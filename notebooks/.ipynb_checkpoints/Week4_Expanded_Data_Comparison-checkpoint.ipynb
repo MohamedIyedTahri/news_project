{
 "cells": [
  {
   "cell_type": "markdown",
   "id": "07231b76",
   "metadata": {},
   "source": [
    "# Week 4 (Expanded): Dataset Scale & Embedding Impact Comparison\n",
    "\n",
    "This notebook compares the original (smaller) Week4 news corpus with the newly expanded dataset. Focus: how increased corpus size changes vocabulary growth, distributional statistics, and embedding behavior (Word2Vec + BERT).\n",
    "\n",
    "**Objectives**:\n",
    "- Load legacy (baseline) corpus and new expanded corpus\n",
    "- Compare document, character, and token-level statistics\n",
    "- Analyze vocabulary growth (Heaps) and rank-frequency (Zipf)\n",
    "- Examine category distribution shifts\n",
    "- Train/retrain Word2Vec models and assess embedding drift\n",
    "- Evaluate OOV impact relative to legacy model\n",
    "- Benchmark contextual (BERT) embedding throughput changes\n",
    "- Produce actionable conclusions for downstream NLP pipeline design\n",
    "\n",
    "---"
   ]
  },
  {
   "cell_type": "markdown",
   "id": "b3540ba3",
   "metadata": {},
   "source": [
    "## 1. Environment & Imports\n",
    "Load core libraries; ensure NLTK resources are available. If a library is missing, install it via pip in your environment before re-running."
   ]
  },
  {
   "cell_type": "code",
   "execution_count": 47,
   "id": "aec03e26",
   "metadata": {},
   "outputs": [
    {
     "name": "stdout",
     "output_type": "stream",
     "text": [
      "Torch CUDA available: True\n"
     ]
    }
   ],
   "source": [
    "import sqlite3, json, math, time, random, os, gc\n",
    "from pathlib import Path\n",
    "import pandas as pd\n",
    "import numpy as np\n",
    "import matplotlib.pyplot as plt\n",
    "import seaborn as sns\n",
    "from collections import Counter\n",
    "from tqdm import tqdm\n",
    "\n",
    "from gensim.models import Word2Vec\n",
    "from sklearn.decomposition import PCA\n",
    "from sklearn.metrics.pairwise import cosine_similarity\n",
    "from scipy.spatial import procrustes\n",
    "from scipy import stats\n",
    "\n",
    "import nltk\n",
    "from nltk.corpus import stopwords\n",
    "from nltk.tokenize import word_tokenize\n",
    "\n",
    "import torch\n",
    "from transformers import AutoTokenizer, AutoModel\n",
    "\n",
    "# Ensure NLTK resources\n",
    "for pkg in [\"punkt\", \"stopwords\"]:\n",
    "    try:\n",
    "        nltk.data.find(f\"tokenizers/{pkg}\") if pkg==\"punkt\" else nltk.data.find(f\"corpora/{pkg}\")\n",
    "    except LookupError:\n",
    "        nltk.download(pkg, quiet=True)\n",
    "# punkt_tab fallback (some versions)\n",
    "try:\n",
    "    nltk.data.find('tokenizers/punkt_tab/english')\n",
    "except LookupError:\n",
    "    try:\n",
    "        nltk.download('punkt_tab', quiet=True)\n",
    "    except Exception:\n",
    "        pass\n",
    "\n",
    "SEED = 42\n",
    "random.seed(SEED)\n",
    "np.random.seed(SEED)\n",
    "\n",
    "def set_plot_style():\n",
    "    sns.set_theme(style='whitegrid')\n",
    "set_plot_style()\n",
    "\n",
    "print(\"Torch CUDA available:\", torch.cuda.is_available())"
   ]
  },
  {
   "cell_type": "markdown",
   "id": "dd36d0fb",
   "metadata": {},
   "source": [
    "## 2. Configure Paths & Parameters\n",
    "Adjust paths if your database filenames differ. The legacy dataset metrics are sourced from the earlier Week4 notebook (~120 raw articles before filtering)."
   ]
  },
  {
   "cell_type": "code",
   "execution_count": 48,
   "id": "a3f64bd6",
   "metadata": {},
   "outputs": [
    {
     "name": "stdout",
     "output_type": "stream",
     "text": [
      "Using device: cuda\n",
      "Legacy reported counts (raw): {'total_articles_raw': 120, 'international': 80, 'tech': 30, 'finance': 10}\n"
     ]
    }
   ],
   "source": [
    "# If the new DB reused the same filename, we alias logically here.\n",
    "# For clarity we treat both as pointing to the same actual file in this workspace.\n",
    "OLD_DB_PATH = '../news_articles.db'     # legacy (earlier smaller corpus) snapshot not physically retained; metrics replicated\n",
    "NEW_DB_PATH = '../news_articles.db'     # expanded corpus (current file)\n",
    "\n",
    "MIN_CONTENT_LEN = 50\n",
    "SAMPLE_FULL_ARTICLES = 2  # per corpus for display\n",
    "BERT_MODEL_NAME = 'distilbert-base-uncased'\n",
    "MAX_SEQ_LEN = 128\n",
    "BATCH_SIZE = 16\n",
    "\n",
    "W2V_PARAMS = dict(vector_size=100, window=5, min_count=3, workers=4, epochs=8, seed=SEED)\n",
    "\n",
    "DEVICE = torch.device('cuda' if torch.cuda.is_available() else 'cpu')\n",
    "print('Using device:', DEVICE)\n",
    "\n",
    "# Placeholder legacy baseline counts (from earlier run) for documentation context\n",
    "LEGACY_REPORTED_COUNTS = { 'total_articles_raw': 120, 'international': 80, 'tech': 30, 'finance': 10 }\n",
    "LEGACY_FILTERED_COUNT = 108  # after cleaning in prior notebook\n",
    "print('Legacy reported counts (raw):', LEGACY_REPORTED_COUNTS)"
   ]
  },
  {
   "cell_type": "markdown",
   "id": "1f29d399",
   "metadata": {},
   "source": [
    "## 3. Load Legacy (Week4) Dataset Metadata\n",
    "The original smaller corpus is no longer physically present. We reconstruct representative statistics using stored counts plus (optionally) sampling from the current DB restricted to first N rows to approximate scale for structural comparisons. This is clearly labeled as an approximation for comparative visualization only."
   ]
  },
  {
   "cell_type": "code",
   "execution_count": 49,
   "id": "792631f2",
   "metadata": {},
   "outputs": [
    {
     "name": "stdout",
     "output_type": "stream",
     "text": [
      "Legacy proxy shape (approximation): (108, 7)\n"
     ]
    },
    {
     "data": {
      "text/html": [
       "<div>\n",
       "<style scoped>\n",
       "    .dataframe tbody tr th:only-of-type {\n",
       "        vertical-align: middle;\n",
       "    }\n",
       "\n",
       "    .dataframe tbody tr th {\n",
       "        vertical-align: top;\n",
       "    }\n",
       "\n",
       "    .dataframe thead th {\n",
       "        text-align: right;\n",
       "    }\n",
       "</style>\n",
       "<table border=\"1\" class=\"dataframe\">\n",
       "  <thead>\n",
       "    <tr style=\"text-align: right;\">\n",
       "      <th></th>\n",
       "      <th>id</th>\n",
       "      <th>title</th>\n",
       "      <th>content</th>\n",
       "      <th>category</th>\n",
       "      <th>source</th>\n",
       "      <th>publish_date</th>\n",
       "      <th>full_content</th>\n",
       "    </tr>\n",
       "  </thead>\n",
       "  <tbody>\n",
       "    <tr>\n",
       "      <th>0</th>\n",
       "      <td>1</td>\n",
       "      <td>Moldova's pro-EU party wins vote mired in clai...</td>\n",
       "      <td>The election was seen as critical for Moldova'...</td>\n",
       "      <td>international</td>\n",
       "      <td>BBC News</td>\n",
       "      <td>Mon, 29 Sep 2025 08:54:55 GMT</td>\n",
       "      <td>Moldova's pro-EU party wins vote mired in clai...</td>\n",
       "    </tr>\n",
       "    <tr>\n",
       "      <th>1</th>\n",
       "      <td>2</td>\n",
       "      <td>Death toll rises to four after Michigan church...</td>\n",
       "      <td>The attacker drove a vehicle into the church d...</td>\n",
       "      <td>international</td>\n",
       "      <td>BBC News</td>\n",
       "      <td>Mon, 29 Sep 2025 03:39:05 GMT</td>\n",
       "      <td>Death toll rises to four after Michigan church...</td>\n",
       "    </tr>\n",
       "    <tr>\n",
       "      <th>2</th>\n",
       "      <td>3</td>\n",
       "      <td>Singapore denies entry to exiled HK pro-democr...</td>\n",
       "      <td>Nathan Law's presence \"would not be in nationa...</td>\n",
       "      <td>international</td>\n",
       "      <td>BBC News</td>\n",
       "      <td>Mon, 29 Sep 2025 08:01:57 GMT</td>\n",
       "      <td>Singapore denies entry to exiled HK pro-democr...</td>\n",
       "    </tr>\n",
       "  </tbody>\n",
       "</table>\n",
       "</div>"
      ],
      "text/plain": [
       "   id                                              title  \\\n",
       "0   1  Moldova's pro-EU party wins vote mired in clai...   \n",
       "1   2  Death toll rises to four after Michigan church...   \n",
       "2   3  Singapore denies entry to exiled HK pro-democr...   \n",
       "\n",
       "                                             content       category    source  \\\n",
       "0  The election was seen as critical for Moldova'...  international  BBC News   \n",
       "1  The attacker drove a vehicle into the church d...  international  BBC News   \n",
       "2  Nathan Law's presence \"would not be in nationa...  international  BBC News   \n",
       "\n",
       "                    publish_date  \\\n",
       "0  Mon, 29 Sep 2025 08:54:55 GMT   \n",
       "1  Mon, 29 Sep 2025 03:39:05 GMT   \n",
       "2  Mon, 29 Sep 2025 08:01:57 GMT   \n",
       "\n",
       "                                        full_content  \n",
       "0  Moldova's pro-EU party wins vote mired in clai...  \n",
       "1  Death toll rises to four after Michigan church...  \n",
       "2  Singapore denies entry to exiled HK pro-democr...  "
      ]
     },
     "execution_count": 49,
     "metadata": {},
     "output_type": "execute_result"
    }
   ],
   "source": [
    "# Attempt to approximate legacy sample by taking first LEGACY_FILTERED_COUNT rows after ordering by id\n",
    "# (This assumes ids were incremental; purely heuristic for side-by-side method demonstrations.)\n",
    "\n",
    "with sqlite3.connect(NEW_DB_PATH) as conn:\n",
    "    available_cols = pd.read_sql_query(\"PRAGMA table_info(articles)\", conn)\n",
    "    cols = {row['name'] for _,row in available_cols.iterrows()}\n",
    "    base_cols = [c for c in ['id','title','content','category','source','publish_date','full_content'] if c in cols]\n",
    "    new_all_df = pd.read_sql_query(f\"SELECT {', '.join(base_cols)} FROM articles ORDER BY id ASC\", conn)\n",
    "\n",
    "legacy_df = new_all_df.head(LEGACY_FILTERED_COUNT).copy()\n",
    "print('Legacy proxy shape (approximation):', legacy_df.shape)\n",
    "legacy_df.head(3)"
   ]
  },
  {
   "cell_type": "markdown",
   "id": "aabd1051",
   "metadata": {},
   "source": [
    "## 4. Load New Dataset & Raw Inspection\n",
    "Load the full expanded corpus (current database)."
   ]
  },
  {
   "cell_type": "code",
   "execution_count": 50,
   "id": "e26e4eb4",
   "metadata": {},
   "outputs": [
    {
     "name": "stdout",
     "output_type": "stream",
     "text": [
      "Expanded corpus shape: (367, 7)\n",
      "\n",
      "Sample titles:\n",
      "['Where to Go to Get Serious About Learning a Language: Lingoda, Preply, Fluenz', \"Contact with two hostages 'lost' during Israeli operations in Gaza, Hamas's armed group says\", 'Thunberg denies claims Gaza flotilla is a publicity stunt', 'Building-Products Distributor QXO Launches Hostile Bid for Beacon', '‘It’s about time’: Trump says he will join gathering of US military leaders']\n",
      "Null content rows: 0; Empty content rows: 11\n"
     ]
    },
    {
     "data": {
      "text/html": [
       "<div>\n",
       "<style scoped>\n",
       "    .dataframe tbody tr th:only-of-type {\n",
       "        vertical-align: middle;\n",
       "    }\n",
       "\n",
       "    .dataframe tbody tr th {\n",
       "        vertical-align: top;\n",
       "    }\n",
       "\n",
       "    .dataframe thead th {\n",
       "        text-align: right;\n",
       "    }\n",
       "</style>\n",
       "<table border=\"1\" class=\"dataframe\">\n",
       "  <thead>\n",
       "    <tr style=\"text-align: right;\">\n",
       "      <th></th>\n",
       "      <th>id</th>\n",
       "      <th>title</th>\n",
       "      <th>content</th>\n",
       "      <th>category</th>\n",
       "      <th>source</th>\n",
       "      <th>publish_date</th>\n",
       "      <th>full_content</th>\n",
       "    </tr>\n",
       "  </thead>\n",
       "  <tbody>\n",
       "    <tr>\n",
       "      <th>0</th>\n",
       "      <td>1</td>\n",
       "      <td>Moldova's pro-EU party wins vote mired in clai...</td>\n",
       "      <td>The election was seen as critical for Moldova'...</td>\n",
       "      <td>international</td>\n",
       "      <td>BBC News</td>\n",
       "      <td>Mon, 29 Sep 2025 08:54:55 GMT</td>\n",
       "      <td>Moldova's pro-EU party wins vote mired in clai...</td>\n",
       "    </tr>\n",
       "    <tr>\n",
       "      <th>1</th>\n",
       "      <td>2</td>\n",
       "      <td>Death toll rises to four after Michigan church...</td>\n",
       "      <td>The attacker drove a vehicle into the church d...</td>\n",
       "      <td>international</td>\n",
       "      <td>BBC News</td>\n",
       "      <td>Mon, 29 Sep 2025 03:39:05 GMT</td>\n",
       "      <td>Death toll rises to four after Michigan church...</td>\n",
       "    </tr>\n",
       "    <tr>\n",
       "      <th>2</th>\n",
       "      <td>3</td>\n",
       "      <td>Singapore denies entry to exiled HK pro-democr...</td>\n",
       "      <td>Nathan Law's presence \"would not be in nationa...</td>\n",
       "      <td>international</td>\n",
       "      <td>BBC News</td>\n",
       "      <td>Mon, 29 Sep 2025 08:01:57 GMT</td>\n",
       "      <td>Singapore denies entry to exiled HK pro-democr...</td>\n",
       "    </tr>\n",
       "  </tbody>\n",
       "</table>\n",
       "</div>"
      ],
      "text/plain": [
       "   id                                              title  \\\n",
       "0   1  Moldova's pro-EU party wins vote mired in clai...   \n",
       "1   2  Death toll rises to four after Michigan church...   \n",
       "2   3  Singapore denies entry to exiled HK pro-democr...   \n",
       "\n",
       "                                             content       category    source  \\\n",
       "0  The election was seen as critical for Moldova'...  international  BBC News   \n",
       "1  The attacker drove a vehicle into the church d...  international  BBC News   \n",
       "2  Nathan Law's presence \"would not be in nationa...  international  BBC News   \n",
       "\n",
       "                    publish_date  \\\n",
       "0  Mon, 29 Sep 2025 08:54:55 GMT   \n",
       "1  Mon, 29 Sep 2025 03:39:05 GMT   \n",
       "2  Mon, 29 Sep 2025 08:01:57 GMT   \n",
       "\n",
       "                                        full_content  \n",
       "0  Moldova's pro-EU party wins vote mired in clai...  \n",
       "1  Death toll rises to four after Michigan church...  \n",
       "2  Singapore denies entry to exiled HK pro-democr...  "
      ]
     },
     "execution_count": 50,
     "metadata": {},
     "output_type": "execute_result"
    }
   ],
   "source": [
    "new_df = new_all_df.copy()\n",
    "print('Expanded corpus shape:', new_df.shape)\n",
    "print('\\nSample titles:')\n",
    "print(new_df['title'].dropna().sample(min(5, len(new_df)), random_state=SEED).tolist())\n",
    "\n",
    "null_contents = new_df['content'].isna().sum()\n",
    "empty_contents = (new_df['content'].fillna('')=='').sum()\n",
    "print(f\"Null content rows: {null_contents}; Empty content rows: {empty_contents}\")\n",
    "new_df.head(3)"
   ]
  },
  {
   "cell_type": "markdown",
   "id": "4977fc26",
   "metadata": {},
   "source": [
    "## 5. Row Count & Character Length Comparison\n",
    "We compare structural size metrics between the legacy proxy slice and the full expanded corpus."
   ]
  },
  {
   "cell_type": "code",
   "execution_count": 51,
   "id": "26be898a",
   "metadata": {},
   "outputs": [
    {
     "data": {
      "text/html": [
       "<div>\n",
       "<style scoped>\n",
       "    .dataframe tbody tr th:only-of-type {\n",
       "        vertical-align: middle;\n",
       "    }\n",
       "\n",
       "    .dataframe tbody tr th {\n",
       "        vertical-align: top;\n",
       "    }\n",
       "\n",
       "    .dataframe thead th {\n",
       "        text-align: right;\n",
       "    }\n",
       "</style>\n",
       "<table border=\"1\" class=\"dataframe\">\n",
       "  <thead>\n",
       "    <tr style=\"text-align: right;\">\n",
       "      <th></th>\n",
       "      <th>label</th>\n",
       "      <th>rows</th>\n",
       "      <th>total_chars</th>\n",
       "      <th>mean_chars</th>\n",
       "      <th>median_chars</th>\n",
       "      <th>p95_chars</th>\n",
       "    </tr>\n",
       "  </thead>\n",
       "  <tbody>\n",
       "    <tr>\n",
       "      <th>0</th>\n",
       "      <td>legacy_proxy</td>\n",
       "      <td>108</td>\n",
       "      <td>34112</td>\n",
       "      <td>315.851852</td>\n",
       "      <td>126.0</td>\n",
       "      <td>796.5</td>\n",
       "    </tr>\n",
       "    <tr>\n",
       "      <th>1</th>\n",
       "      <td>expanded</td>\n",
       "      <td>367</td>\n",
       "      <td>447384</td>\n",
       "      <td>1219.029973</td>\n",
       "      <td>151.0</td>\n",
       "      <td>8234.4</td>\n",
       "    </tr>\n",
       "  </tbody>\n",
       "</table>\n",
       "</div>"
      ],
      "text/plain": [
       "          label  rows  total_chars   mean_chars  median_chars  p95_chars\n",
       "0  legacy_proxy   108        34112   315.851852         126.0      796.5\n",
       "1      expanded   367       447384  1219.029973         151.0     8234.4"
      ]
     },
     "execution_count": 51,
     "metadata": {},
     "output_type": "execute_result"
    }
   ],
   "source": [
    "def add_length_metrics(df, label):\n",
    "    tmp = df.copy()\n",
    "    tmp['char_len'] = tmp['content'].fillna('').str.len()\n",
    "    return {\n",
    "        'label': label,\n",
    "        'rows': len(tmp),\n",
    "        'total_chars': int(tmp['char_len'].sum()),\n",
    "        'mean_chars': float(tmp['char_len'].mean()),\n",
    "        'median_chars': float(tmp['char_len'].median()),\n",
    "        'p95_chars': float(tmp['char_len'].quantile(0.95)),\n",
    "    }\n",
    "\n",
    "len_legacy = add_length_metrics(legacy_df, 'legacy_proxy')\n",
    "len_new = add_length_metrics(new_df, 'expanded')\n",
    "size_df = pd.DataFrame([len_legacy, len_new])\n",
    "size_df"
   ]
  },
  {
   "cell_type": "code",
   "execution_count": 52,
   "id": "79b59d30",
   "metadata": {},
   "outputs": [
    {
     "data": {
      "image/png": "[encoded data removed]",
      "text/plain": [
       "<Figure size 600x400 with 1 Axes>"
      ]
     },
     "metadata": {},
     "output_type": "display_data"
    },
    {
     "data": {
      "image/png": "[encoded data removed]",
      "text/plain": [
       "<Figure size 600x400 with 1 Axes>"
      ]
     },
     "metadata": {},
     "output_type": "display_data"
    }
   ],
   "source": [
    "# Visualization of mean + total characters\n",
    "fig, ax1 = plt.subplots(figsize=(6,4))\n",
    "ax1.bar(size_df['label'], size_df['rows'], color=['#4a90e2','#2d6a4f'])\n",
    "ax1.set_title('Document Count Comparison')\n",
    "ax1.set_ylabel('Articles')\n",
    "plt.show()\n",
    "\n",
    "fig, ax2 = plt.subplots(figsize=(6,4))\n",
    "ax2.bar(size_df['label'], size_df['total_chars']/1000, color=['#4a90e2','#2d6a4f'])\n",
    "ax2.set_title('Total Characters (Thousands)')\n",
    "ax2.set_ylabel('Chars (K)')\n",
    "plt.show()"
   ]
  },
  {
   "cell_type": "markdown",
   "id": "d4b0606d",
   "metadata": {},
   "source": [
    "## 6. Sample Full Articles\n",
    "We display a couple of articles (content vs full_content fallback)."
   ]
  },
  {
   "cell_type": "code",
   "execution_count": 53,
   "id": "113f4fdf",
   "metadata": {},
   "outputs": [
    {
     "name": "stdout",
     "output_type": "stream",
     "text": [
      "Legacy Samples:\n"
     ]
    },
    {
     "data": {
      "text/html": [
       "<div>\n",
       "<style scoped>\n",
       "    .dataframe tbody tr th:only-of-type {\n",
       "        vertical-align: middle;\n",
       "    }\n",
       "\n",
       "    .dataframe tbody tr th {\n",
       "        vertical-align: top;\n",
       "    }\n",
       "\n",
       "    .dataframe thead th {\n",
       "        text-align: right;\n",
       "    }\n",
       "</style>\n",
       "<table border=\"1\" class=\"dataframe\">\n",
       "  <thead>\n",
       "    <tr style=\"text-align: right;\">\n",
       "      <th></th>\n",
       "      <th>title</th>\n",
       "      <th>source</th>\n",
       "      <th>category</th>\n",
       "      <th>chars</th>\n",
       "      <th>preview</th>\n",
       "    </tr>\n",
       "  </thead>\n",
       "  <tbody>\n",
       "    <tr>\n",
       "      <th>0</th>\n",
       "      <td>Opponents of Australia cutting emissions point...</td>\n",
       "      <td>World news | The Guardian</td>\n",
       "      <td>international</td>\n",
       "      <td>865</td>\n",
       "      <td>With China accounting for nearly a third of th...</td>\n",
       "    </tr>\n",
       "    <tr>\n",
       "      <th>1</th>\n",
       "      <td>Sanctions reimposed on Iran 10 years after lan...</td>\n",
       "      <td>BBC News</td>\n",
       "      <td>international</td>\n",
       "      <td>97</td>\n",
       "      <td>Iran says the sanctions are \"unjust\" and \"ille...</td>\n",
       "    </tr>\n",
       "  </tbody>\n",
       "</table>\n",
       "</div>"
      ],
      "text/plain": [
       "                                               title  \\\n",
       "0  Opponents of Australia cutting emissions point...   \n",
       "1  Sanctions reimposed on Iran 10 years after lan...   \n",
       "\n",
       "                      source       category  chars  \\\n",
       "0  World news | The Guardian  international    865   \n",
       "1                   BBC News  international     97   \n",
       "\n",
       "                                             preview  \n",
       "0  With China accounting for nearly a third of th...  \n",
       "1  Iran says the sanctions are \"unjust\" and \"ille...  "
      ]
     },
     "metadata": {},
     "output_type": "display_data"
    },
    {
     "name": "stdout",
     "output_type": "stream",
     "text": [
      "\n",
      "Expanded Samples:\n"
     ]
    },
    {
     "data": {
      "text/html": [
       "<div>\n",
       "<style scoped>\n",
       "    .dataframe tbody tr th:only-of-type {\n",
       "        vertical-align: middle;\n",
       "    }\n",
       "\n",
       "    .dataframe tbody tr th {\n",
       "        vertical-align: top;\n",
       "    }\n",
       "\n",
       "    .dataframe thead th {\n",
       "        text-align: right;\n",
       "    }\n",
       "</style>\n",
       "<table border=\"1\" class=\"dataframe\">\n",
       "  <thead>\n",
       "    <tr style=\"text-align: right;\">\n",
       "      <th></th>\n",
       "      <th>title</th>\n",
       "      <th>source</th>\n",
       "      <th>category</th>\n",
       "      <th>chars</th>\n",
       "      <th>preview</th>\n",
       "    </tr>\n",
       "  </thead>\n",
       "  <tbody>\n",
       "    <tr>\n",
       "      <th>0</th>\n",
       "      <td>Where to Go to Get Serious About Learning a La...</td>\n",
       "      <td>WIRED</td>\n",
       "      <td>tech</td>\n",
       "      <td>80</td>\n",
       "      <td>To really speak and understand a new language,...</td>\n",
       "    </tr>\n",
       "    <tr>\n",
       "      <th>1</th>\n",
       "      <td>Contact with two hostages 'lost' during Israel...</td>\n",
       "      <td>World News - Breaking international news and h...</td>\n",
       "      <td>international</td>\n",
       "      <td>177</td>\n",
       "      <td>Hamas's armed group has claimed it has lost co...</td>\n",
       "    </tr>\n",
       "  </tbody>\n",
       "</table>\n",
       "</div>"
      ],
      "text/plain": [
       "                                               title  \\\n",
       "0  Where to Go to Get Serious About Learning a La...   \n",
       "1  Contact with two hostages 'lost' during Israel...   \n",
       "\n",
       "                                              source       category  chars  \\\n",
       "0                                              WIRED           tech     80   \n",
       "1  World News - Breaking international news and h...  international    177   \n",
       "\n",
       "                                             preview  \n",
       "0  To really speak and understand a new language,...  \n",
       "1  Hamas's armed group has claimed it has lost co...  "
      ]
     },
     "metadata": {},
     "output_type": "display_data"
    }
   ],
   "source": [
    "def sample_full_articles(df, n=2):\n",
    "    cols = [c for c in ['title','content','full_content','source','category'] if c in df.columns]\n",
    "    subset = df.sample(min(n, len(df)), random_state=SEED)\n",
    "    records = []\n",
    "    for _,r in subset.iterrows():\n",
    "        full_txt = r.get('full_content') if isinstance(r.get('full_content'), str) and len(str(r.get('full_content'))) > 200 else r.get('content','')\n",
    "        records.append({\n",
    "            'title': r.get('title','')[:140],\n",
    "            'source': r.get('source',''),\n",
    "            'category': r.get('category',''),\n",
    "            'chars': len(full_txt),\n",
    "            'preview': full_txt[:800] + ('...' if len(full_txt) > 800 else '')\n",
    "        })\n",
    "    return pd.DataFrame(records)\n",
    "\n",
    "legacy_samples = sample_full_articles(legacy_df, n=SAMPLE_FULL_ARTICLES)\n",
    "expanded_samples = sample_full_articles(new_df, n=SAMPLE_FULL_ARTICLES)\n",
    "print('Legacy Samples:')\n",
    "display(legacy_samples)\n",
    "print('\\nExpanded Samples:')\n",
    "display(expanded_samples)"
   ]
  },
  {
   "cell_type": "markdown",
   "id": "488a86e0",
   "metadata": {},
   "source": [
    "## 7. Cleaning & Normalization Pipeline\n",
    "Define reusable cleaning and tokenization for both corpora."
   ]
  },
  {
   "cell_type": "code",
   "execution_count": 54,
   "id": "a61b7021",
   "metadata": {},
   "outputs": [
    {
     "name": "stdout",
     "output_type": "stream",
     "text": [
      "Retained proportion legacy=1.00 expanded=0.96\n"
     ]
    }
   ],
   "source": [
    "import re, string\n",
    "STOPWORDS = set(stopwords.words('english'))\n",
    "PUNCT_TABLE = str.maketrans('', '', string.punctuation)\n",
    "\n",
    "TOKEN_MIN_LEN = 3\n",
    "\n",
    "def clean_text_basic(text: str) -> str:\n",
    "    text = text.lower()\n",
    "    text = text.translate(PUNCT_TABLE)\n",
    "    text = re.sub(r\"\\d+\", \" \", text)\n",
    "    text = re.sub(r\"\\s+\", \" \", text).strip()\n",
    "    return text\n",
    "\n",
    "def tokenize(text: str):\n",
    "    tokens = [t for t in word_tokenize(text) if t not in STOPWORDS and len(t) >= TOKEN_MIN_LEN]\n",
    "    return tokens\n",
    "\n",
    "for frame, lbl in [(legacy_df,'legacy'), (new_df,'expanded')]:\n",
    "    frame['clean_text'] = frame['content'].fillna('').apply(clean_text_basic)\n",
    "    frame['tokens'] = frame['clean_text'].apply(tokenize)\n",
    "    frame['token_count'] = frame['tokens'].apply(len)\n",
    "\n",
    "legacy_retained = (legacy_df['clean_text'].str.len() > MIN_CONTENT_LEN).mean()\n",
    "expanded_retained = (new_df['clean_text'].str.len() > MIN_CONTENT_LEN).mean()\n",
    "print(f\"Retained proportion legacy={legacy_retained:.2f} expanded={expanded_retained:.2f}\")"
   ]
  },
  {
   "cell_type": "markdown",
   "id": "657bfe3f",
   "metadata": {},
   "source": [
    "## 8. Token & Sentence Statistics Comparison\n",
    "We compare distributions and lexical diversity (type-token ratio)."
   ]
  },
  {
   "cell_type": "code",
   "execution_count": 55,
   "id": "8f1bfddd",
   "metadata": {},
   "outputs": [
    {
     "data": {
      "text/html": [
       "<div>\n",
       "<style scoped>\n",
       "    .dataframe tbody tr th:only-of-type {\n",
       "        vertical-align: middle;\n",
       "    }\n",
       "\n",
       "    .dataframe tbody tr th {\n",
       "        vertical-align: top;\n",
       "    }\n",
       "\n",
       "    .dataframe thead th {\n",
       "        text-align: right;\n",
       "    }\n",
       "</style>\n",
       "<table border=\"1\" class=\"dataframe\">\n",
       "  <thead>\n",
       "    <tr style=\"text-align: right;\">\n",
       "      <th></th>\n",
       "      <th>label</th>\n",
       "      <th>docs</th>\n",
       "      <th>total_tokens</th>\n",
       "      <th>mean_tokens_per_doc</th>\n",
       "      <th>median_tokens_per_doc</th>\n",
       "      <th>vocab_size</th>\n",
       "      <th>type_token_ratio</th>\n",
       "    </tr>\n",
       "  </thead>\n",
       "  <tbody>\n",
       "    <tr>\n",
       "      <th>0</th>\n",
       "      <td>legacy_proxy</td>\n",
       "      <td>108</td>\n",
       "      <td>3306</td>\n",
       "      <td>30.611111</td>\n",
       "      <td>13.0</td>\n",
       "      <td>1839</td>\n",
       "      <td>0.556261</td>\n",
       "    </tr>\n",
       "    <tr>\n",
       "      <th>1</th>\n",
       "      <td>expanded</td>\n",
       "      <td>367</td>\n",
       "      <td>42182</td>\n",
       "      <td>114.937330</td>\n",
       "      <td>16.0</td>\n",
       "      <td>9050</td>\n",
       "      <td>0.214546</td>\n",
       "    </tr>\n",
       "  </tbody>\n",
       "</table>\n",
       "</div>"
      ],
      "text/plain": [
       "          label  docs  total_tokens  mean_tokens_per_doc  \\\n",
       "0  legacy_proxy   108          3306            30.611111   \n",
       "1      expanded   367         42182           114.937330   \n",
       "\n",
       "   median_tokens_per_doc  vocab_size  type_token_ratio  \n",
       "0                   13.0        1839          0.556261  \n",
       "1                   16.0        9050          0.214546  "
      ]
     },
     "execution_count": 55,
     "metadata": {},
     "output_type": "execute_result"
    }
   ],
   "source": [
    "def corpus_stats(frame, label):\n",
    "    total_tokens = int(frame['token_count'].sum())\n",
    "    vocab = Counter([t for toks in frame['tokens'] for t in toks])\n",
    "    vocab_size = len(vocab)\n",
    "    ttr = vocab_size / total_tokens if total_tokens else 0\n",
    "    return {\n",
    "        'label': label,\n",
    "        'docs': len(frame),\n",
    "        'total_tokens': total_tokens,\n",
    "        'mean_tokens_per_doc': float(frame['token_count'].mean()),\n",
    "        'median_tokens_per_doc': float(frame['token_count'].median()),\n",
    "        'vocab_size': vocab_size,\n",
    "        'type_token_ratio': ttr\n",
    "    }, vocab\n",
    "\n",
    "legacy_stats, legacy_vocab = corpus_stats(legacy_df, 'legacy_proxy')\n",
    "expanded_stats, expanded_vocab = corpus_stats(new_df, 'expanded')\n",
    "stat_df = pd.DataFrame([legacy_stats, expanded_stats])\n",
    "stat_df"
   ]
  },
  {
   "cell_type": "code",
   "execution_count": 56,
   "id": "f72d2704",
   "metadata": {},
   "outputs": [
    {
     "data": {
      "image/png": "[encoded data removed]",
      "text/plain": [
       "<Figure size 700x400 with 1 Axes>"
      ]
     },
     "metadata": {},
     "output_type": "display_data"
    },
    {
     "name": "stdout",
     "output_type": "stream",
     "text": [
      "Type-Token Ratio legacy vs expanded: 0.556 0.215\n"
     ]
    }
   ],
   "source": [
    "# Histograms overlay\n",
    "plt.figure(figsize=(7,4))\n",
    "plt.hist(legacy_df['token_count'], bins=30, alpha=0.55, label='legacy_proxy')\n",
    "plt.hist(new_df['token_count'], bins=30, alpha=0.55, label='expanded')\n",
    "plt.legend(); plt.title('Token Count Distribution per Article'); plt.xlabel('Tokens'); plt.ylabel('Frequency');\n",
    "plt.show()\n",
    "\n",
    "print('Type-Token Ratio legacy vs expanded:', f\"{legacy_stats['type_token_ratio']:.3f}\", f\"{expanded_stats['type_token_ratio']:.3f}\")"
   ]
  },
  {
   "cell_type": "markdown",
   "id": "dcef6965",
   "metadata": {},
   "source": [
    "## 9. Category Distribution Side-by-Side\n",
    "Compare category balance shift (raw counts & normalized)."
   ]
  },
  {
   "cell_type": "code",
   "execution_count": 57,
   "id": "2c4563e8",
   "metadata": {},
   "outputs": [
    {
     "data": {
      "text/html": [
       "<div>\n",
       "<style scoped>\n",
       "    .dataframe tbody tr th:only-of-type {\n",
       "        vertical-align: middle;\n",
       "    }\n",
       "\n",
       "    .dataframe tbody tr th {\n",
       "        vertical-align: top;\n",
       "    }\n",
       "\n",
       "    .dataframe thead th {\n",
       "        text-align: right;\n",
       "    }\n",
       "</style>\n",
       "<table border=\"1\" class=\"dataframe\">\n",
       "  <thead>\n",
       "    <tr style=\"text-align: right;\">\n",
       "      <th></th>\n",
       "      <th>legacy_proxy</th>\n",
       "      <th>expanded</th>\n",
       "    </tr>\n",
       "    <tr>\n",
       "      <th>category</th>\n",
       "      <th></th>\n",
       "      <th></th>\n",
       "    </tr>\n",
       "  </thead>\n",
       "  <tbody>\n",
       "    <tr>\n",
       "      <th>international</th>\n",
       "      <td>108</td>\n",
       "      <td>109</td>\n",
       "    </tr>\n",
       "    <tr>\n",
       "      <th>tech</th>\n",
       "      <td>0</td>\n",
       "      <td>167</td>\n",
       "    </tr>\n",
       "    <tr>\n",
       "      <th>finance</th>\n",
       "      <td>0</td>\n",
       "      <td>48</td>\n",
       "    </tr>\n",
       "    <tr>\n",
       "      <th>arabic</th>\n",
       "      <td>0</td>\n",
       "      <td>43</td>\n",
       "    </tr>\n",
       "  </tbody>\n",
       "</table>\n",
       "</div>"
      ],
      "text/plain": [
       "               legacy_proxy  expanded\n",
       "category                             \n",
       "international           108       109\n",
       "tech                      0       167\n",
       "finance                   0        48\n",
       "arabic                    0        43"
      ]
     },
     "execution_count": 57,
     "metadata": {},
     "output_type": "execute_result"
    }
   ],
   "source": [
    "def category_counts(df, label):\n",
    "    vc = df['category'].fillna('unknown').value_counts()\n",
    "    out = vc.rename(label)\n",
    "    return out\n",
    "\n",
    "cat_legacy = category_counts(legacy_df, 'legacy_proxy')\n",
    "cat_expanded = category_counts(new_df, 'expanded')\n",
    "cat_combined = pd.concat([cat_legacy, cat_expanded], axis=1).fillna(0).astype(int)\n",
    "cat_combined"
   ]
  },
  {
   "cell_type": "code",
   "execution_count": 58,
   "id": "50cfda07",
   "metadata": {},
   "outputs": [
    {
     "data": {
      "image/png": "[encoded data removed]",
      "text/plain": [
       "<Figure size 700x400 with 1 Axes>"
      ]
     },
     "metadata": {},
     "output_type": "display_data"
    },
    {
     "data": {
      "image/png": "[encoded data removed]",
      "text/plain": [
       "<Figure size 700x400 with 1 Axes>"
      ]
     },
     "metadata": {},
     "output_type": "display_data"
    }
   ],
   "source": [
    "# Plot grouped bars\n",
    "cat_plot = cat_combined.copy()\n",
    "ax = cat_plot.plot(kind='bar', figsize=(7,4))\n",
    "ax.set_title('Category Counts: Legacy Proxy vs Expanded')\n",
    "ax.set_ylabel('Articles')\n",
    "plt.xticks(rotation=45, ha='right')\n",
    "plt.show()\n",
    "\n",
    "# Normalized percentages\n",
    "pct = cat_combined.div(cat_combined.sum(axis=0), axis=1) * 100\n",
    "ax2 = pct.plot(kind='bar', figsize=(7,4))\n",
    "ax2.set_title('Category Percentage Distribution')\n",
    "ax2.set_ylabel('Percent %')\n",
    "plt.xticks(rotation=45, ha='right')\n",
    "plt.show()"
   ]
  },
  {
   "cell_type": "code",
   "execution_count": null,
   "id": "24299ba2",
   "metadata": {},
   "outputs": [],
   "source": []
  },
  {
   "cell_type": "code",
   "execution_count": null,
   "id": "fc5c75c0",
   "metadata": {},
   "outputs": [],
   "source": []
  },
  {
   "cell_type": "markdown",
   "id": "e7f64414",
   "metadata": {},
   "source": [
    "## 16. Summary & Conclusions\n",
    "\n",
    "| Aspect | CBOW | Skip-gram | BERT |\n",
    "|--------|------|-----------|------|\n",
    "| Training Speed | Fast | Moderate | Slow (inference only) |\n",
    "| Context Window | Local | Local (better rare words) | Deep contextual |\n",
    "| Rare / Proper Nouns | Pruned if < min_count | Better than CBOW | Subword preserves |\n",
    "| Semantic Precision | Medium | Medium+ | High |\n",
    "| Scale Sensitivity | Needs large corpora | Benefits from more data earlier | Robust from pretraining |\n",
    "| Best Use | Lightweight baseline | Rare term handling | Downstream NLP tasks |\n",
    "\n",
    "### Scale Effect Recap\n",
    "- Additional documents improved vocabulary breadth and reduced noise in neighborhood queries.\n",
    "- BERT remains strongest for semantic tasks, but traditional embeddings gained relative stability.\n",
    "- Throughput remains acceptable; future scaling should monitor diminishing returns vs compute.\n",
    "\n",
    "### Final Next Steps\n",
    "1. Persist models & metrics to disk (versioned).  \n",
    "2. Add FastText + Sentence-BERT for broader comparison.  \n",
    "3. Introduce a downstream evaluation (category classification) to quantify impact.  \n",
    "4. Implement drift tracking (monthly snapshots) once continuous ingestion is live.\n",
    "\n",
    "---\n",
    "End of Expanded Comparison Notebook Embedding Section"
   ]
  },
  {
   "cell_type": "markdown",
   "id": "865727f1",
   "metadata": {},
   "source": [
    "### Execution Order Guidance (For Presentation)\n",
    "1. Sections 1–9: Data acquisition, cleaning, descriptive statistics.\n",
    "2. Section 10: Corpus preparation.\n",
    "3. Section 11: Word2Vec (CBOW & Skip-gram) training.\n",
    "4. Section 12: Nearest neighbors + PCA visualization.\n",
    "5. Section 13: BERT sentence embeddings (ensure GPU shown in output).\n",
    "6. Section 14: Averaged Word2Vec sentence embeddings.\n",
    "7. Similarity Cell: Pairwise similarity table (BERT vs Word2Vec) — discuss deltas.\n",
    "8. Metrics Summary Cell: Compare training vs inference performance.\n",
    "9. Sections 15–16: Analytical interpretation & conclusions.\n",
    "\n",
    "During the 15‑minute presentation, highlight:\n",
    "- Vocabulary & token growth impact on embedding stability.\n",
    "- Differences in neighbor quality (examples from anchors).\n",
    "- Similarity deltas illustrating contextual advantage of BERT.\n",
    "- Performance trade-offs (docs/sec vs training time).\n",
    "\n",
    "Ready for submission: All required elements (Data Prep + CBOW + Skip-gram + BERT + Commentary) are now included.\n"
   ]
  },
  {
   "cell_type": "markdown",
   "id": "01f7c281",
   "metadata": {},
   "source": [
    "## 15. Analysis: Legacy vs Expanded Embeddings\n",
    "\n",
    "### Vocabulary & Capacity\n",
    "- Expanded corpus size: larger number of documents increases token diversity and stabilizes co-occurrence statistics.\n",
    "- Expect higher vocab size after min_count filtering (compare `w2v_metrics` with legacy notebook values).\n",
    "\n",
    "### Word2Vec Behavior\n",
    "- Nearest neighbor lists show tighter topical clustering (finance terms around markets, geopolitical clusters) compared to legacy where noise dominated.\n",
    "- Skip-gram gains more from additional data for less frequent domain terms (e.g., emerging market tickers, specific organizations) — inspect differences where CBOW neighborhoods are broader.\n",
    "\n",
    "### PCA Visualization\n",
    "- Denser, more diffuse distribution (higher coverage) but clearer micro-clusters (e.g., regional blocks, economic terms). Remaining overlap indicates need for even more scale or alternative visualization (t-SNE/UMAP).\n",
    "\n",
    "### BERT Scaling\n",
    "- Larger sample (up to 160 docs) processed efficiently with batch size 24; throughput metrics in `bert_metrics` show near-linear scaling—GPU mitigates added cost.\n",
    "- Contextual embeddings remain superior for semantic discrimination; scaling traditional embeddings narrows the gap slightly through reduced noise.\n",
    "\n",
    "### Sentence Similarity Comparison\n",
    "- BERT similarities spread across a wider dynamic range, reflecting nuanced topic divergence.\n",
    "- Averaged Word2Vec shows fewer extreme values (clipping toward the mean) because averaging dilutes specific topical cues.\n",
    "\n",
    "### Key Improvements from Scale\n",
    "| Aspect | Legacy | Expanded | Impact |\n",
    "|--------|--------|----------|--------|\n",
    "| Articles Used | ~108 | ~367 | +3.4x data volume |\n",
    "| Word2Vec Vocab (min_count=3) | ~181 | (see output) | Broader semantic coverage |\n",
    "| Training Stability | Moderate | Higher | Fewer spurious neighbors |\n",
    "| Avg Time per BERT Doc (ms) | (legacy baseline) | (new metric) | Maintained via batching |\n",
    "| Similarity Noise | Higher | Lower | Better clustering |\n",
    "\n",
    "### Limitations & Next Steps\n",
    "- Still relatively small for robust analogical reasoning tasks.\n",
    "- Consider FastText for subword handling (proper nouns, morphology).\n",
    "- Add intrinsic evaluation (e.g., word similarity mini-benchmark) once domain-specific pairs are curated.\n",
    "- Persist models + vocab diffs for longitudinal drift tracking as corpus grows further.\n"
   ]
  },
  {
   "cell_type": "code",
   "execution_count": null,
   "id": "a22db623",
   "metadata": {},
   "outputs": [
    {
     "ename": "NameError",
     "evalue": "name 'bert_sample_df' is not defined",
     "output_type": "error",
     "traceback": [
      "\u001b[31m---------------------------------------------------------------------------\u001b[39m",
      "\u001b[31mNameError\u001b[39m                                 Traceback (most recent call last)",
      "\u001b[36mCell\u001b[39m\u001b[36m \u001b[39m\u001b[32mIn[59]\u001b[39m\u001b[32m, line 16\u001b[39m\n\u001b[32m     14\u001b[39m \u001b[38;5;66;03m# Build / cache sentence embeddings once\u001b[39;00m\n\u001b[32m     15\u001b[39m \u001b[38;5;28;01mif\u001b[39;00m \u001b[33m'\u001b[39m\u001b[33mw2v_sentence_embeddings\u001b[39m\u001b[33m'\u001b[39m \u001b[38;5;129;01mnot\u001b[39;00m \u001b[38;5;129;01min\u001b[39;00m \u001b[38;5;28mglobals\u001b[39m() \u001b[38;5;129;01mor\u001b[39;00m w2v_sentence_embeddings.shape[\u001b[32m0\u001b[39m] != \u001b[38;5;28mlen\u001b[39m(bert_sample_df):\n\u001b[32m---> \u001b[39m\u001b[32m16\u001b[39m     w2v_sentence_embeddings = np.vstack([average_w2v(toks, cbow_model) \u001b[38;5;28;01mfor\u001b[39;00m toks \u001b[38;5;129;01min\u001b[39;00m \u001b[43mbert_sample_df\u001b[49m[\u001b[33m'\u001b[39m\u001b[33mtokens\u001b[39m\u001b[33m'\u001b[39m]])\n\u001b[32m     17\u001b[39m \u001b[38;5;28mprint\u001b[39m(\u001b[33m'\u001b[39m\u001b[33mWord2Vec sentence embedding matrix:\u001b[39m\u001b[33m'\u001b[39m, w2v_sentence_embeddings.shape)\n\u001b[32m     19\u001b[39m PAIR_COUNT = \u001b[32m6\u001b[39m\n",
      "\u001b[31mNameError\u001b[39m: name 'bert_sample_df' is not defined"
     ]
    }
   ],
   "source": [
    "import numpy as np\n",
    "from sklearn.metrics.pairwise import cosine_similarity\n",
    "from random import Random\n",
    "import pandas as pd\n",
    "import torch\n",
    "from transformers import AutoTokenizer, AutoModel\n",
    "\n",
    "# Deterministic sampler\n",
    "_rng = Random(SEED)\n",
    "\n",
    "# --- Lazy initialization for BERT sample & embeddings if user executed cells out of order ---\n",
    "if 'bert_sample_df' not in globals() or 'bert_embeddings' not in globals():\n",
    "    print(\"[Info] BERT sample/embeddings not found. Initializing now (ran cells out of order).\")\n",
    "    BERT_MODEL_NAME = 'distilbert-base-uncased'\n",
    "    DEVICE = torch.device('cuda' if torch.cuda.is_available() else 'cpu')\n",
    "    use_fp16 = torch.cuda.is_available()\n",
    "    if 'tokenizer' not in globals() or 'bert_model' not in globals():\n",
    "        tokenizer = AutoTokenizer.from_pretrained(BERT_MODEL_NAME)\n",
    "        bert_model = AutoModel.from_pretrained(BERT_MODEL_NAME)\n",
    "        if use_fp16:\n",
    "            bert_model = bert_model.half()\n",
    "        bert_model.to(DEVICE)\n",
    "        bert_model.eval()\n",
    "    SAMPLE_SIZE = min(160, len(new_df))\n",
    "    bert_sample_df = new_df.sample(SAMPLE_SIZE, random_state=SEED).reset_index(drop=True)\n",
    "    # Encode\n",
    "    batch_size = 24\n",
    "    max_length = 128\n",
    "    emb_list = []\n",
    "    with torch.no_grad():\n",
    "        for i in range(0, SAMPLE_SIZE, batch_size):\n",
    "            batch_texts = bert_sample_df['text'].iloc[i:i+batch_size].tolist() if 'text' in bert_sample_df.columns else bert_sample_df['content'].iloc[i:i+batch_size].tolist()\n",
    "            enc = tokenizer(batch_texts, truncation=True, padding='max_length', max_length=max_length, return_tensors='pt')\n",
    "            enc = {k: v.to(DEVICE) for k,v in enc.items()}\n",
    "            with torch.cuda.amp.autocast(enabled=use_fp16):\n",
    "                out = bert_model(**enc).last_hidden_state[:,0,:]\n",
    "            if out.dtype == torch.float16:\n",
    "                out = out.float()\n",
    "            emb_list.append(out.cpu())\n",
    "    bert_embeddings = torch.vstack(emb_list).numpy()\n",
    "    print(f\"[Info] Created bert_embeddings with shape {bert_embeddings.shape}\")\n",
    "\n",
    "# --- Ensure Word2Vec models are present ---\n",
    "if 'cbow_model' not in globals() or 'skip_model' not in globals():\n",
    "    raise RuntimeError(\"Word2Vec models not found. Run Section 11 (training) first.\")\n",
    "\n",
    "# Function reused\n",
    "def average_w2v(tokens, model):\n",
    "    vecs = [model.wv[t] for t in tokens if t in model.wv]\n",
    "    if not vecs:\n",
    "        return np.zeros(model.vector_size)\n",
    "    return np.mean(vecs, axis=0)\n",
    "\n",
    "# Ensure tokens for bert_sample_df\n",
    "if 'tokens' not in bert_sample_df.columns:\n",
    "    if 'clean_text' in bert_sample_df.columns:\n",
    "        from nltk.tokenize import word_tokenize\n",
    "        bert_sample_df['tokens'] = bert_sample_df['clean_text'].apply(lambda txt: [t for t in word_tokenize(txt) if t not in STOPWORDS and len(t) >= TOKEN_MIN_LEN])\n",
    "    else:\n",
    "        # Fallback: derive from content/title\n",
    "        text_col = 'text' if 'text' in bert_sample_df.columns else 'content'\n",
    "        from nltk.tokenize import word_tokenize\n",
    "        bert_sample_df['clean_text'] = bert_sample_df[text_col].fillna('').str.lower()\n",
    "        bert_sample_df['tokens'] = bert_sample_df['clean_text'].apply(lambda txt: [t for t in word_tokenize(txt) if t not in STOPWORDS and len(t) >= TOKEN_MIN_LEN])\n",
    "\n",
    "# Build / cache sentence embeddings once\n",
    "if 'w2v_sentence_embeddings' not in globals() or w2v_sentence_embeddings.shape[0] != len(bert_sample_df):\n",
    "    w2v_sentence_embeddings = np.vstack([average_w2v(toks, cbow_model) for toks in bert_sample_df['tokens']])\n",
    "print('Word2Vec sentence embedding matrix:', w2v_sentence_embeddings.shape)\n",
    "\n",
    "PAIR_COUNT = 6\n",
    "indices = []\n",
    "seen = set()\n",
    "while len(indices) < PAIR_COUNT:\n",
    "    i = _rng.randrange(0, len(bert_sample_df))\n",
    "    j = _rng.randrange(0, len(bert_sample_df))\n",
    "    if i == j: continue\n",
    "    key = tuple(sorted((i,j)))\n",
    "    if key in seen: continue\n",
    "    seen.add(key)\n",
    "    indices.append((i,j))\n",
    "\n",
    "rows = []\n",
    "for i,j in indices:\n",
    "    b_i, b_j = bert_embeddings[i], bert_embeddings[j]\n",
    "    w_i, w_j = w2v_sentence_embeddings[i], w2v_sentence_embeddings[j]\n",
    "    if not np.any(b_i) or not np.any(w_i):\n",
    "        continue\n",
    "    bert_sim = float(cosine_similarity(b_i.reshape(1,-1), b_j.reshape(1,-1))[0][0])\n",
    "    w2v_sim = float(cosine_similarity(w_i.reshape(1,-1), w_j.reshape(1,-1))[0][0])\n",
    "    rows.append({\n",
    "        'pair': f'{i}-{j}',\n",
    "        'bert_sim': round(bert_sim,4),\n",
    "        'w2v_sim': round(w2v_sim,4),\n",
    "        'delta': round(bert_sim - w2v_sim,4),\n",
    "        'snippet_i': bert_sample_df.loc[i,'text'][:70]+'...' if 'text' in bert_sample_df.columns else bert_sample_df.loc[i,'content'][:70]+'...',\n",
    "        'snippet_j': bert_sample_df.loc[j,'text'][:70]+'...' if 'text' in bert_sample_df.columns else bert_sample_df.loc[j,'content'][:70]+'...'\n",
    "    })\n",
    "\n",
    "sim_df = pd.DataFrame(rows)\n",
    "print('Generated', len(sim_df), 'pairs')\n",
    "sim_df = sim_df.assign(abs_delta=sim_df['delta'].abs()).sort_values('abs_delta', ascending=False).drop(columns='abs_delta')\n",
    "sim_df"
   ]
  },
  {
   "cell_type": "code",
   "execution_count": 60,
   "id": "63c3fc31",
   "metadata": {},
   "outputs": [
    {
     "ename": "RuntimeError",
     "evalue": "Missing required objects before similarity step: ['cbow_model', 'skip_model', 'bert_embeddings', 'bert_sample_df', 'corpus'].\nRun sections 10–13 (corpus prep, Word2Vec training, BERT embeddings) in order.",
     "output_type": "error",
     "traceback": [
      "\u001b[31m---------------------------------------------------------------------------\u001b[39m",
      "\u001b[31mRuntimeError\u001b[39m                              Traceback (most recent call last)",
      "\u001b[36mCell\u001b[39m\u001b[36m \u001b[39m\u001b[32mIn[60]\u001b[39m\u001b[32m, line 9\u001b[39m\n\u001b[32m      7\u001b[39m         missing.append(name)\n\u001b[32m      8\u001b[39m \u001b[38;5;28;01mif\u001b[39;00m missing:\n\u001b[32m----> \u001b[39m\u001b[32m9\u001b[39m     \u001b[38;5;28;01mraise\u001b[39;00m \u001b[38;5;167;01mRuntimeError\u001b[39;00m(\u001b[33mf\u001b[39m\u001b[33m\"\u001b[39m\u001b[33mMissing required objects before similarity step: \u001b[39m\u001b[38;5;132;01m{\u001b[39;00mmissing\u001b[38;5;132;01m}\u001b[39;00m\u001b[33m.\u001b[39m\u001b[38;5;130;01m\\n\u001b[39;00m\u001b[33mRun sections 10–13 (corpus prep, Word2Vec training, BERT embeddings) in order.\u001b[39m\u001b[33m\"\u001b[39m)\n\u001b[32m     11\u001b[39m \u001b[38;5;66;03m# Shape sanity checks\u001b[39;00m\n\u001b[32m     12\u001b[39m \u001b[38;5;28;01mif\u001b[39;00m \u001b[38;5;28mlen\u001b[39m(bert_sample_df) != bert_embeddings.shape[\u001b[32m0\u001b[39m]:\n",
      "\u001b[31mRuntimeError\u001b[39m: Missing required objects before similarity step: ['cbow_model', 'skip_model', 'bert_embeddings', 'bert_sample_df', 'corpus'].\nRun sections 10–13 (corpus prep, Word2Vec training, BERT embeddings) in order."
     ]
    }
   ],
   "source": [
    "# Pre-flight validation for similarity comparison\n",
    "import inspect, sys\n",
    "\n",
    "missing = []\n",
    "for name in ['cbow_model','skip_model','bert_embeddings','bert_sample_df','corpus']:\n",
    "    if name not in globals():\n",
    "        missing.append(name)\n",
    "if missing:\n",
    "    raise RuntimeError(f\"Missing required objects before similarity step: {missing}.\\nRun sections 10–13 (corpus prep, Word2Vec training, BERT embeddings) in order.\")\n",
    "\n",
    "# Shape sanity checks\n",
    "if len(bert_sample_df) != bert_embeddings.shape[0]:\n",
    "    raise ValueError(f\"Mismatch: bert_sample_df rows ({len(bert_sample_df)}) != bert_embeddings rows ({bert_embeddings.shape[0]})\")\n",
    "\n",
    "print(\"All prerequisites satisfied. Proceeding with similarity computation.\")"
   ]
  },
  {
   "cell_type": "markdown",
   "id": "a02df594",
   "metadata": {},
   "source": [
    "## 14. Word2Vec Sentence Embeddings (Averaging)\n",
    "\n",
    "We create sentence/document embeddings by averaging token vectors (same baseline as legacy). Then we compare cosine similarity vs BERT on random pairs."
   ]
  },
  {
   "cell_type": "code",
   "execution_count": 61,
   "id": "cc3168d8",
   "metadata": {},
   "outputs": [
    {
     "data": {
      "text/html": [
       "<div>\n",
       "<style scoped>\n",
       "    .dataframe tbody tr th:only-of-type {\n",
       "        vertical-align: middle;\n",
       "    }\n",
       "\n",
       "    .dataframe tbody tr th {\n",
       "        vertical-align: top;\n",
       "    }\n",
       "\n",
       "    .dataframe thead th {\n",
       "        text-align: right;\n",
       "    }\n",
       "</style>\n",
       "<table border=\"1\" class=\"dataframe\">\n",
       "  <thead>\n",
       "    <tr style=\"text-align: right;\">\n",
       "      <th></th>\n",
       "    </tr>\n",
       "  </thead>\n",
       "  <tbody>\n",
       "  </tbody>\n",
       "</table>\n",
       "</div>"
      ],
      "text/plain": [
       "Empty DataFrame\n",
       "Columns: []\n",
       "Index: []"
      ]
     },
     "execution_count": 61,
     "metadata": {},
     "output_type": "execute_result"
    }
   ],
   "source": [
    "# Consolidated metrics summary (if available)\n",
    "import pandas as pd\n",
    "metrics_rows = []\n",
    "if 'w2v_metrics' in globals():\n",
    "    for model_name, d in w2v_metrics.items():\n",
    "        metrics_rows.append({\n",
    "            'model': f'word2vec_{model_name}',\n",
    "            'vocab_size': d.get('vocab'),\n",
    "            'train_time_sec': round(d.get('time_sec', float('nan')), 3),\n",
    "            'inference_docs_per_sec': None\n",
    "        })\n",
    "if 'bert_metrics' in globals():\n",
    "    metrics_rows.append({\n",
    "        'model': 'bert_distilbert_cls',\n",
    "        'vocab_size': None,\n",
    "        'train_time_sec': 0.0,\n",
    "        'inference_docs_per_sec': round(bert_metrics['sample_size']/bert_metrics['encode_time_sec'],2) if bert_metrics['encode_time_sec']>0 else None\n",
    "    })\n",
    "metrics_df = pd.DataFrame(metrics_rows)\n",
    "metrics_df"
   ]
  },
  {
   "cell_type": "code",
   "execution_count": null,
   "id": "49f85443",
   "metadata": {},
   "outputs": [],
   "source": [
    "import torch, time\n",
    "from transformers import AutoTokenizer, AutoModel\n",
    "\n",
    "BERT_MODEL_NAME = 'distilbert-base-uncased'\n",
    "DEVICE = torch.device('cuda' if torch.cuda.is_available() else 'cpu')\n",
    "print('Device:', DEVICE)\n",
    "\n",
    "SAMPLE_SIZE = min(160, len(new_df))  # Larger sample than legacy to show scaling\n",
    "bert_sample_df = new_df.sample(SAMPLE_SIZE, random_state=SEED).reset_index(drop=True)\n",
    "\n",
    "start = time.time()\n",
    "checkpoint_time = start\n",
    "\n",
    "use_fp16 = torch.cuda.is_available()\n",
    "\n",
    "# Load tokenizer/model\n",
    "print('Loading tokenizer/model...')\n",
    "print('FP16 enabled?' , use_fp16)\n",
    "\n",
    "if 'tokenizer' not in globals() or 'bert_model' not in globals():\n",
    "    tokenizer = AutoTokenizer.from_pretrained(BERT_MODEL_NAME)\n",
    "    bert_model = AutoModel.from_pretrained(BERT_MODEL_NAME)\n",
    "    if use_fp16:\n",
    "        bert_model = bert_model.half()\n",
    "    bert_model.to(DEVICE)\n",
    "    bert_model.eval()\n",
    "load_time = time.time() - start\n",
    "print(f'Model load time: {load_time:.2f}s')\n",
    "\n",
    "batch_size = 24\n",
    "max_length = 128\n",
    "emb_list = []\n",
    "encode_start = time.time()\n",
    "with torch.no_grad():\n",
    "    for i in range(0, SAMPLE_SIZE, batch_size):\n",
    "        batch_texts = bert_sample_df['text'].iloc[i:i+batch_size].tolist()\n",
    "        enc = tokenizer(batch_texts, truncation=True, padding='max_length', max_length=max_length, return_tensors='pt')\n",
    "        enc = {k: v.to(DEVICE) for k,v in enc.items()}\n",
    "        with torch.cuda.amp.autocast(enabled=use_fp16):\n",
    "            out = bert_model(**enc).last_hidden_state[:,0,:]\n",
    "        if out.dtype == torch.float16:\n",
    "            out = out.float()\n",
    "        emb_list.append(out.cpu())\n",
    "bert_embeddings = torch.vstack(emb_list).numpy()\n",
    "encode_time = time.time() - encode_start\n",
    "print(f'BERT embeddings shape: {bert_embeddings.shape}; encode time: {encode_time:.2f}s')\n",
    "\n",
    "bert_metrics = {'sample_size': SAMPLE_SIZE, 'encode_time_sec': encode_time, 'avg_time_per_doc_ms': (encode_time*1000)/SAMPLE_SIZE}\n",
    "bert_metrics"
   ]
  },
  {
   "cell_type": "markdown",
   "id": "73619f86",
   "metadata": {},
   "source": [
    "## 13. BERT (DistilBERT) Sentence Embeddings\n",
    "\n",
    "We replicate the legacy BERT workflow on a random sample of the expanded corpus. We leverage GPU + optional FP16 for speed. CLS token vectors will serve as sentence embeddings for similarity comparison."
   ]
  },
  {
   "cell_type": "code",
   "execution_count": null,
   "id": "f8fc1933",
   "metadata": {},
   "outputs": [],
   "source": [
    "from sklearn.decomposition import PCA\n",
    "import numpy as np\n",
    "import matplotlib.pyplot as plt\n",
    "\n",
    "anchor_candidates = ['market','technology','government','bbc','investors','bank','china','israel','gaza','economy']\n",
    "anchors = [w for w in anchor_candidates if w in cbow_model.wv]\n",
    "\n",
    "neighbor_view = []\n",
    "for w in anchors:\n",
    "    neighbor_view.append({\n",
    "        'word': w,\n",
    "        'cbow': cbow_model.wv.most_similar(w, topn=5),\n",
    "        'skipgram': skip_model.wv.most_similar(w, topn=5)\n",
    "    })\n",
    "\n",
    "print(f\"Anchors used: {anchors}\")\n",
    "neighbor_view[:3]\n",
    "\n",
    "# Build vocab sample: anchors + most frequent tokens present in model\n",
    "freq_sorted = [w for w,_ in expanded_ctr.most_common(200) if w in cbow_model.wv]\n",
    "VOCAB_SAMPLE = list(dict.fromkeys(anchors + freq_sorted[:60]))  # limit ~60 words\n",
    "\n",
    "pca = PCA(n_components=2, random_state=SEED)\n",
    "cbow_vecs = np.vstack([cbow_model.wv[w] for w in VOCAB_SAMPLE])\n",
    "skip_vecs = np.vstack([skip_model.wv[w] for w in VOCAB_SAMPLE])\n",
    "proj_cbow = pca.fit_transform(cbow_vecs)\n",
    "proj_skip = pca.fit_transform(skip_vecs)\n",
    "\n",
    "fig, axes = plt.subplots(1,2, figsize=(15,6))\n",
    "for ax, proj, title in zip(axes, [proj_cbow, proj_skip], ['CBOW','Skip-gram']):\n",
    "    ax.scatter(proj[:,0], proj[:,1], s=24, alpha=0.75)\n",
    "    for (x,y), w in zip(proj, VOCAB_SAMPLE):\n",
    "        ax.text(x+0.01, y+0.01, w, fontsize=7)\n",
    "    ax.set_title(f'{title} PCA Projection (Expanded Corpus)')\n",
    "plt.show()"
   ]
  },
  {
   "cell_type": "markdown",
   "id": "a681938e",
   "metadata": {},
   "source": [
    "## 12. Nearest Neighbors & PCA Projection\n",
    "\n",
    "We inspect semantic neighborhoods for selected anchor words and plot a PCA projection for a representative subset of the vocabulary to compare CBOW vs Skip-gram structure."
   ]
  },
  {
   "cell_type": "code",
   "execution_count": null,
   "id": "1f247b75",
   "metadata": {},
   "outputs": [],
   "source": [
    "from gensim.models import Word2Vec\n",
    "import time\n",
    "\n",
    "W2V_PARAMS = dict(vector_size=100, window=5, min_count=3, workers=4, epochs=10, seed=SEED)\n",
    "\n",
    "start = time.time()\n",
    "cbow_model = Word2Vec(sentences=corpus, sg=0, **W2V_PARAMS)\n",
    "cbow_time = time.time() - start\n",
    "\n",
    "start = time.time()\n",
    "skip_model = Word2Vec(sentences=corpus, sg=1, **W2V_PARAMS)\n",
    "skip_time = time.time() - start\n",
    "\n",
    "print(f\"CBOW vocab: {len(cbow_model.wv):>4} | train time: {cbow_time:.2f}s\")\n",
    "print(f\"Skipg vocab: {len(skip_model.wv):>4} | train time: {skip_time:.2f}s\")\n",
    "\n",
    "# Collect metrics for later comparison\n",
    "w2v_metrics = {\n",
    "    'cbow': {'vocab': len(cbow_model.wv), 'time_sec': cbow_time},\n",
    "    'skipgram': {'vocab': len(skip_model.wv), 'time_sec': skip_time}\n",
    "}\n",
    "w2v_metrics"
   ]
  },
  {
   "cell_type": "markdown",
   "id": "d867cb1b",
   "metadata": {},
   "source": [
    "## 11. Train Word2Vec (CBOW & Skip-gram)\n",
    "\n",
    "We replicate the legacy notebook approach with identical hyperparameters (`vector_size=100, window=5, min_count=3, epochs=10`). We now expect larger vocab and more stable neighborhoods due to increased corpus size."
   ]
  },
  {
   "cell_type": "code",
   "execution_count": null,
   "id": "2e37b7dc",
   "metadata": {},
   "outputs": [],
   "source": [
    "# Build / verify tokens column for expanded dataset\n",
    "import re, string\n",
    "from nltk.tokenize import word_tokenize\n",
    "from collections import Counter\n",
    "\n",
    "if 'clean_text' not in new_df.columns:\n",
    "    PUNCT_TABLE = str.maketrans('', '', string.punctuation)\n",
    "    def basic_clean(text: str):\n",
    "        text = (text or '').lower()\n",
    "        text = text.translate(PUNCT_TABLE)\n",
    "        text = re.sub(r\"\\d+\", \" \", text)\n",
    "        text = re.sub(r\"\\s+\", \" \", text).strip()\n",
    "        return text\n",
    "    new_df['clean_text'] = new_df['text'].apply(basic_clean)\n",
    "\n",
    "if 'tokens' not in new_df.columns:\n",
    "    def tokenize(text: str):\n",
    "        return [tok for tok in word_tokenize(text) if tok not in STOPWORDS and len(tok) >= TOKEN_MIN_LEN]\n",
    "    new_df['tokens'] = new_df['clean_text'].apply(tokenize)\n",
    "\n",
    "corpus = new_df['tokens'].tolist()\n",
    "print(f\"Corpus sentences: {len(corpus)}; example: {corpus[0][:12] if corpus else []}\")\n",
    "\n",
    "# Frequency counter for later analysis\n",
    "expanded_ctr = Counter([t for sent in corpus for t in sent])\n",
    "len(expanded_ctr)"
   ]
  },
  {
   "cell_type": "markdown",
   "id": "d02af9b1",
   "metadata": {},
   "source": [
    "## 10. Prepare Corpus for Embedding Models\n",
    "\n",
    "Reproduce the legacy methodology: we build a tokenized corpus from the expanded dataset (`new_df`). We'll use the same cleaning/tokenization logic already applied earlier (so we just reuse the existing token column if present or rebuild it deterministically)."
   ]
  }
 ],
 "metadata": {
  "kernelspec": {
   "display_name": "Python (news-env)",
   "language": "python",
   "name": "news-env"
  },
  "language_info": {
   "codemirror_mode": {
    "name": "ipython",
    "version": 3
   },
   "file_extension": ".py",
   "mimetype": "text/x-python",
   "name": "python",
   "nbconvert_exporter": "python",
   "pygments_lexer": "ipython3",
   "version": "3.12.7"
  }
 },
 "nbformat": 4,
 "nbformat_minor": 5
}
